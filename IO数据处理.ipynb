{
 "cells": [
  {
   "cell_type": "code",
   "execution_count": 1,
   "id": "6a81a8fd",
   "metadata": {},
   "outputs": [
    {
     "data": {
      "text/html": [
       "<div>\n",
       "<style scoped>\n",
       "    .dataframe tbody tr th:only-of-type {\n",
       "        vertical-align: middle;\n",
       "    }\n",
       "\n",
       "    .dataframe tbody tr th {\n",
       "        vertical-align: top;\n",
       "    }\n",
       "\n",
       "    .dataframe thead th {\n",
       "        text-align: right;\n",
       "    }\n",
       "</style>\n",
       "<table border=\"1\" class=\"dataframe\">\n",
       "  <thead>\n",
       "    <tr style=\"text-align: right;\">\n",
       "      <th></th>\n",
       "      <th>交易日</th>\n",
       "      <th>涨跌</th>\n",
       "      <th>逐笔累计盈亏</th>\n",
       "    </tr>\n",
       "  </thead>\n",
       "  <tbody>\n",
       "    <tr>\n",
       "      <th>0</th>\n",
       "      <td>2020-02-21</td>\n",
       "      <td>0.0</td>\n",
       "      <td>0.0</td>\n",
       "    </tr>\n",
       "    <tr>\n",
       "      <th>1</th>\n",
       "      <td>2020-02-28</td>\n",
       "      <td>-33.8</td>\n",
       "      <td>-33.8</td>\n",
       "    </tr>\n",
       "    <tr>\n",
       "      <th>2</th>\n",
       "      <td>2020-03-06</td>\n",
       "      <td>10.6</td>\n",
       "      <td>-23.2</td>\n",
       "    </tr>\n",
       "    <tr>\n",
       "      <th>3</th>\n",
       "      <td>2020-03-13</td>\n",
       "      <td>205.6</td>\n",
       "      <td>182.4</td>\n",
       "    </tr>\n",
       "    <tr>\n",
       "      <th>4</th>\n",
       "      <td>2020-03-17</td>\n",
       "      <td>11.6</td>\n",
       "      <td>194.0</td>\n",
       "    </tr>\n",
       "    <tr>\n",
       "      <th>...</th>\n",
       "      <td>...</td>\n",
       "      <td>...</td>\n",
       "      <td>...</td>\n",
       "    </tr>\n",
       "    <tr>\n",
       "      <th>78</th>\n",
       "      <td>2021-09-10</td>\n",
       "      <td>-20.2</td>\n",
       "      <td>2143.8</td>\n",
       "    </tr>\n",
       "    <tr>\n",
       "      <th>79</th>\n",
       "      <td>2021-09-17</td>\n",
       "      <td>19.4</td>\n",
       "      <td>2163.2</td>\n",
       "    </tr>\n",
       "    <tr>\n",
       "      <th>80</th>\n",
       "      <td>2021-09-24</td>\n",
       "      <td>-29.2</td>\n",
       "      <td>2134.0</td>\n",
       "    </tr>\n",
       "    <tr>\n",
       "      <th>81</th>\n",
       "      <td>2021-10-08</td>\n",
       "      <td>-38.6</td>\n",
       "      <td>2095.4</td>\n",
       "    </tr>\n",
       "    <tr>\n",
       "      <th>82</th>\n",
       "      <td>2021-10-15</td>\n",
       "      <td>-21.0</td>\n",
       "      <td>2074.4</td>\n",
       "    </tr>\n",
       "  </tbody>\n",
       "</table>\n",
       "<p>83 rows × 3 columns</p>\n",
       "</div>"
      ],
      "text/plain": [
       "          交易日     涨跌  逐笔累计盈亏\n",
       "0  2020-02-21    0.0     0.0\n",
       "1  2020-02-28  -33.8   -33.8\n",
       "2  2020-03-06   10.6   -23.2\n",
       "3  2020-03-13  205.6   182.4\n",
       "4  2020-03-17   11.6   194.0\n",
       "..        ...    ...     ...\n",
       "78 2021-09-10  -20.2  2143.8\n",
       "79 2021-09-17   19.4  2163.2\n",
       "80 2021-09-24  -29.2  2134.0\n",
       "81 2021-10-08  -38.6  2095.4\n",
       "82 2021-10-15  -21.0  2074.4\n",
       "\n",
       "[83 rows x 3 columns]"
      ]
     },
     "execution_count": 1,
     "metadata": {},
     "output_type": "execute_result"
    }
   ],
   "source": [
    "import pandas as pd\n",
    "import matplotlib.pyplot as plt\n",
    "\n",
    "df = pd.read_excel('../ZJN/data/IO趋势15M与IO趋势60M合并.xls')\n",
    "df['逐笔累计盈亏'] = df['涨跌'].cumsum()\n",
    "df"
   ]
  },
  {
   "cell_type": "code",
   "execution_count": 2,
   "id": "bd0d2d12",
   "metadata": {},
   "outputs": [
    {
     "name": "stderr",
     "output_type": "stream",
     "text": [
      "C:\\Users\\l\\AppData\\Local\\Temp/ipykernel_7208/1430263376.py:1: FutureWarning: As the xlwt package is no longer maintained, the xlwt engine will be removed in a future version of pandas. This is the only engine in pandas that supports writing in the xls format. Install openpyxl and write to an xlsx file instead. You can set the option io.excel.xls.writer to 'xlwt' to silence this warning. While this option is deprecated and will also raise a warning, it can be globally set and the warning suppressed.\n",
      "  df.to_excel('../ZJN/IO趋势15M与IO趋势60M合并.xls')\n"
     ]
    }
   ],
   "source": [
    "df.to_excel('../ZJN/IO趋势15M与IO趋势60M合并.xls')"
   ]
  },
  {
   "cell_type": "code",
   "execution_count": 40,
   "id": "e094d69c",
   "metadata": {},
   "outputs": [
    {
     "name": "stdout",
     "output_type": "stream",
     "text": [
      "          交易日    涨跌  逐笔累计盈亏\n",
      "0  2020-02-21   0.0     0.0\n",
      "1  2020-02-28 -19.2   -19.2\n",
      "2  2020-03-06  -0.6   -19.8\n",
      "3  2020-03-13  20.8     1.0\n",
      "4  2020-03-17  11.6    12.6\n",
      "..        ...   ...     ...\n",
      "78 2021-09-10  12.2  1010.8\n",
      "79 2021-09-17 -16.2   994.6\n",
      "80 2021-09-24 -21.8   972.8\n",
      "81 2021-10-08 -32.0   940.8\n",
      "82 2021-10-15  12.6   953.4\n",
      "\n",
      "[83 rows x 3 columns]\n",
      "          交易日     涨跌  逐笔累计盈亏\n",
      "0  2020-02-21    0.0     0.0\n",
      "1  2020-02-28  -14.6   -14.6\n",
      "2  2020-03-06   11.2    -3.4\n",
      "3  2020-03-13  184.8   181.4\n",
      "4  2020-03-17    0.0   181.4\n",
      "..        ...    ...     ...\n",
      "78 2021-09-10  -32.4  1133.0\n",
      "79 2021-09-17   35.6  1168.6\n",
      "80 2021-09-24   -7.4  1161.2\n",
      "81 2021-10-08   -6.6  1154.6\n",
      "82 2021-10-15  -33.6  1121.0\n",
      "\n",
      "[83 rows x 3 columns]\n",
      "          交易日     涨跌  逐笔累计盈亏\n",
      "0  2020-02-21    0.0     0.0\n",
      "1  2020-02-28  -12.2   -12.2\n",
      "2  2020-03-06   29.2    17.0\n",
      "3  2020-03-13  -69.2   -52.2\n",
      "4  2020-03-17 -116.8  -169.0\n",
      "..        ...    ...     ...\n",
      "78 2021-09-10    0.0   253.6\n",
      "79 2021-09-17    0.0   253.6\n",
      "80 2021-09-24   11.6   265.2\n",
      "81 2021-10-08   11.0   276.2\n",
      "82 2021-10-15    9.4   285.6\n",
      "\n",
      "[83 rows x 3 columns]\n"
     ]
    }
   ],
   "source": [
    "import pandas as pd\n",
    "import matplotlib.pyplot as plt\n",
    "\n",
    "df1 = pd.read_excel('../ZJN/data/IO趋势15M_20200221-20211015修改后数据.xls')\n",
    "df2 = pd.read_excel('../ZJN/data/IO趋势60M_20200221-20211015修改后数据.xls')\n",
    "df3 = pd.read_excel('../ZJN/data/IO宽跨卖出数据.xlsx')\n",
    "print(df1)\n",
    "print(df2)\n",
    "print(df3)"
   ]
  },
  {
   "cell_type": "code",
   "execution_count": 44,
   "id": "6d0b72ae",
   "metadata": {},
   "outputs": [
    {
     "name": "stdout",
     "output_type": "stream",
     "text": [
      "          交易日     涨跌  逐笔累计盈亏\n",
      "0  2020-02-21    0.0     0.0\n",
      "1  2020-02-28  -46.0   -46.0\n",
      "2  2020-03-06   39.8    -6.2\n",
      "3  2020-03-13  136.4   130.2\n",
      "4  2020-03-17 -105.2    25.0\n",
      "..        ...    ...     ...\n",
      "78 2021-09-10  -20.2  2397.4\n",
      "79 2021-09-17   19.4  2416.8\n",
      "80 2021-09-24  -17.6  2399.2\n",
      "81 2021-10-08  -27.6  2371.6\n",
      "82 2021-10-15  -11.6  2360.0\n",
      "\n",
      "[83 rows x 3 columns]\n"
     ]
    }
   ],
   "source": [
    "df = df1\n",
    "df = df.drop('涨跌', axis=1)\n",
    "df['涨跌'] = df1['涨跌'] + df2['涨跌'] + df3['涨跌']\n",
    "df = df.drop('逐笔累计盈亏', axis=1)\n",
    "df['逐笔累计盈亏'] = df['涨跌'].cumsum()\n",
    "print(df)"
   ]
  },
  {
   "cell_type": "code",
   "execution_count": 45,
   "id": "2e0025cf",
   "metadata": {},
   "outputs": [
    {
     "name": "stderr",
     "output_type": "stream",
     "text": [
      "C:\\Users\\l\\AppData\\Local\\Temp/ipykernel_11136/2479705229.py:1: FutureWarning: As the xlwt package is no longer maintained, the xlwt engine will be removed in a future version of pandas. This is the only engine in pandas that supports writing in the xls format. Install openpyxl and write to an xlsx file instead. You can set the option io.excel.xls.writer to 'xlwt' to silence this warning. While this option is deprecated and will also raise a warning, it can be globally set and the warning suppressed.\n",
      "  df.to_excel('../ZJN/IO三策略合并.xls')\n"
     ]
    }
   ],
   "source": [
    "df.to_excel('../ZJN/IO三策略合并.xls')"
   ]
  },
  {
   "cell_type": "code",
   "execution_count": null,
   "id": "3b04fcec",
   "metadata": {},
   "outputs": [],
   "source": []
  }
 ],
 "metadata": {
  "kernelspec": {
   "display_name": "Python 3 (ipykernel)",
   "language": "python",
   "name": "python3"
  },
  "language_info": {
   "codemirror_mode": {
    "name": "ipython",
    "version": 3
   },
   "file_extension": ".py",
   "mimetype": "text/x-python",
   "name": "python",
   "nbconvert_exporter": "python",
   "pygments_lexer": "ipython3",
   "version": "3.8.12"
  }
 },
 "nbformat": 4,
 "nbformat_minor": 5
}
