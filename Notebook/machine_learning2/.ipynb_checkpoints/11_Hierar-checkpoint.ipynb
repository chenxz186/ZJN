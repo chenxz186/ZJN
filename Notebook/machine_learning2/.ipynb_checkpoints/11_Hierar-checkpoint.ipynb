{
 "cells": [
  {
   "cell_type": "code",
   "execution_count": 1,
   "metadata": {},
   "outputs": [],
   "source": [
    "import matplotlib.pyplot as plt  #导入matplotlib库\n",
    "import numpy as np  #导入numpy库"
   ]
  },
  {
   "cell_type": "code",
   "execution_count": 4,
   "metadata": {},
   "outputs": [
    {
     "data": {
      "text/plain": [
       "<matplotlib.collections.PathCollection at 0xa447128>"
      ]
     },
     "execution_count": 4,
     "metadata": {},
     "output_type": "execute_result"
    },
    {
     "data": {
      "image/png": "[encoded data removed]",
      "text/plain": [
       "<matplotlib.figure.Figure at 0x855b438>"
      ]
     },
     "metadata": {},
     "output_type": "display_data"
    }
   ],
   "source": [
    "''''' 一个简单案例'''  \n",
    "x = [1,0,2,2,3,4,4]\n",
    "y =[1,0,1,2,5,4,5]\n",
    "plt.xlim(-0.5,5)\n",
    "plt.ylim(-0.5, 6)\n",
    "plt.scatter(x,y, c='b')"
   ]
  },
  {
   "cell_type": "code",
   "execution_count": 5,
   "metadata": {},
   "outputs": [],
   "source": [
    "'''''层次聚类之Agglomerative'''\n",
    "import pandas as pd  #导入pandas库\n",
    "import matplotlib.pyplot as plt  #导入matplotlib库\n",
    "import numpy as np  #导入numpy库"
   ]
  },
  {
   "cell_type": "code",
   "execution_count": 6,
   "metadata": {},
   "outputs": [
    {
     "data": {
      "text/html": [
       "<div>\n",
       "<style scoped>\n",
       "    .dataframe tbody tr th:only-of-type {\n",
       "        vertical-align: middle;\n",
       "    }\n",
       "\n",
       "    .dataframe tbody tr th {\n",
       "        vertical-align: top;\n",
       "    }\n",
       "\n",
       "    .dataframe thead th {\n",
       "        text-align: right;\n",
       "    }\n",
       "</style>\n",
       "<table border=\"1\" class=\"dataframe\">\n",
       "  <thead>\n",
       "    <tr style=\"text-align: right;\">\n",
       "      <th></th>\n",
       "      <th>juice</th>\n",
       "      <th>sweet</th>\n",
       "    </tr>\n",
       "  </thead>\n",
       "  <tbody>\n",
       "    <tr>\n",
       "      <th>0</th>\n",
       "      <td>2.1041</td>\n",
       "      <td>0.8901</td>\n",
       "    </tr>\n",
       "    <tr>\n",
       "      <th>1</th>\n",
       "      <td>-1.0617</td>\n",
       "      <td>-0.4111</td>\n",
       "    </tr>\n",
       "    <tr>\n",
       "      <th>2</th>\n",
       "      <td>0.3521</td>\n",
       "      <td>-1.7488</td>\n",
       "    </tr>\n",
       "    <tr>\n",
       "      <th>3</th>\n",
       "      <td>-0.1962</td>\n",
       "      <td>2.5952</td>\n",
       "    </tr>\n",
       "    <tr>\n",
       "      <th>4</th>\n",
       "      <td>1.4158</td>\n",
       "      <td>1.0928</td>\n",
       "    </tr>\n",
       "  </tbody>\n",
       "</table>\n",
       "</div>"
      ],
      "text/plain": [
       "    juice   sweet\n",
       "0  2.1041  0.8901\n",
       "1 -1.0617 -0.4111\n",
       "2  0.3521 -1.7488\n",
       "3 -0.1962  2.5952\n",
       "4  1.4158  1.0928"
      ]
     },
     "execution_count": 6,
     "metadata": {},
     "output_type": "execute_result"
    }
   ],
   "source": [
    "df = pd.read_csv(''..//z_data//11_beverage.csv') #读取csv数据\n",
    "df.head()  #展示前五行数据"
   ]
  },
  {
   "cell_type": "code",
   "execution_count": 7,
   "metadata": {},
   "outputs": [],
   "source": [
    "X = df.iloc[:,0:2]  #取df的2列为X变量\n",
    "\n",
    "X = np.array(X.values)  # 把X化为数组形式"
   ]
  },
  {
   "cell_type": "code",
   "execution_count": 20,
   "metadata": {},
   "outputs": [
    {
     "data": {
      "text/plain": [
       "AgglomerativeClustering(affinity='euclidean', compute_full_tree='auto',\n",
       "            connectivity=None, linkage='ward', memory=None, n_clusters=4,\n",
       "            pooling_func=<function mean at 0x00000000087AE978>)"
      ]
     },
     "execution_count": 20,
     "metadata": {},
     "output_type": "execute_result"
    }
   ],
   "source": [
    "from sklearn.cluster import AgglomerativeClustering #导入凝聚型算法库\n",
    "n_clusters=4  #设置聚类结果的类簇\n",
    " #设定算法为AGNES算法，距离度量为最小距离\n",
    "ward = AgglomerativeClustering(n_clusters, linkage='ward')\n",
    "ward.fit(X)  #进行聚类算法训练"
   ]
  },
  {
   "cell_type": "code",
   "execution_count": 11,
   "metadata": {},
   "outputs": [
    {
     "name": "stdout",
     "output_type": "stream",
     "text": [
      " 各类簇标签值： [2 0 1 0 2 1 1 2 0 0 1 3 2 0 1 3 1 3 2 0 1 3 2 3 2 0 1 3 2 0 1 3 2 0 2 0 1\n",
      " 0 2 3 2 0 2 0 1 3 2 0 1 0 1 3 2 0 1 3 3 2 0]\n"
     ]
    }
   ],
   "source": [
    "labels = ward.labels_  #输出每一样本的聚类的类簇标签\n",
    "print '各类簇标签值：', labels"
   ]
  },
  {
   "cell_type": "code",
   "execution_count": 21,
   "metadata": {},
   "outputs": [
    {
     "data": {
      "text/plain": [
       "157.212767543232"
      ]
     },
     "execution_count": 21,
     "metadata": {},
     "output_type": "execute_result"
    }
   ],
   "source": [
    "from sklearn import metrics  #导入metrics评估模块\n",
    "y_pred = ward.fit_predict(X)  #根据聚类结果预测每个X所对应的类簇\n",
    "metrics.calinski_harabaz_score(X, y_pred)  #采用CH指标评估聚类结果"
   ]
  },
  {
   "cell_type": "code",
   "execution_count": 18,
   "metadata": {},
   "outputs": [
    {
     "data": {
      "image/png": "[encoded data removed]",
      "text/plain": [
       "<matplotlib.figure.Figure at 0xed950f0>"
      ]
     },
     "metadata": {},
     "output_type": "display_data"
    }
   ],
   "source": [
    "markers = ['o', '^', '*', 's']  #设置散点图标记列表\n",
    "colors = ['r', 'b', 'g', 'peru']  #设置散点图颜色列表\n",
    "plt.figure(figsize=(7, 5)) #设置图形大小\n",
    "# 画每个类簇的样本点\n",
    "for c in range(n_clusters):\n",
    "    cluster = X[labels == c]  #根据不同分类值c筛选X\n",
    "    #按照c的不同取值选取相应样本点、标记、颜色，画散点图\n",
    "    plt.scatter(cluster[:, 0], cluster[:, 1], \n",
    "                marker=markers[c], s=20, c=colors[c])\n",
    "# 设置坐标轴的label\n",
    "plt.xlabel('juice')\n",
    "plt.ylabel('sweet')\n",
    "plt.show()  #展示图形"
   ]
  },
  {
   "cell_type": "code",
   "execution_count": 23,
   "metadata": {},
   "outputs": [
    {
     "name": "stdout",
     "output_type": "stream",
     "text": [
      "各类簇标签值： [2 3 1 0 2 1 1 2 0 0 1 3 2 0 1 3 1 3 2 0 1 3 2 3 2 0 1 3 2 0 1 3 2 0 2 3 1\n",
      " 0 2 3 2 0 2 0 1 3 2 0 1 0 1 3 2 0 1 3 3 2 0]\n"
     ]
    }
   ],
   "source": [
    "'''''采用complete距离度量方法'''\n",
    " #设定算法为AGNES算法，距离度量为最远距离\n",
    "complete = AgglomerativeClustering(n_clusters, linkage='complete') \n",
    "complete.fit(X)  #进行聚类算法训练\n",
    "\n",
    "labels_com = complete.labels_  #输出每一样本的聚类的类簇标签\n",
    "print '各类簇标签值：', labels_com"
   ]
  },
  {
   "cell_type": "code",
   "execution_count": 24,
   "metadata": {},
   "outputs": [
    {
     "data": {
      "text/plain": [
       "180.81063966597227"
      ]
     },
     "execution_count": 24,
     "metadata": {},
     "output_type": "execute_result"
    }
   ],
   "source": [
    "from sklearn import metrics  #导入metrics评估模块\n",
    "y_pred_com =  complete.fit_predict(X)  #根据聚类结果预测每个X所对应的类簇\n",
    "metrics.calinski_harabaz_score(X, y_pred_com)  #采用CH指标评估聚类结果"
   ]
  },
  {
   "cell_type": "code",
   "execution_count": 25,
   "metadata": {},
   "outputs": [
    {
     "data": {
      "image/png": "[encoded data removed]",
      "text/plain": [
       "<matplotlib.figure.Figure at 0xeefe668>"
      ]
     },
     "metadata": {},
     "output_type": "display_data"
    }
   ],
   "source": [
    "markers = ['o', '^', '*', 's']  #设置散点图标记列表\n",
    "colors = ['r', 'b', 'g', 'peru']  #设置散点图颜色列表\n",
    "plt.figure(figsize=(7, 5)) #设置图形大小\n",
    "# 画每个类簇的样本点\n",
    "for c in range(n_clusters):\n",
    "    cluster = X[labels_com == c]  #根据不同分类值c筛选X\n",
    "    #按照c的不同取值选取相应样本点、标记、颜色，画散点图\n",
    "    plt.scatter(cluster[:, 0], cluster[:, 1], \n",
    "                marker=markers[c], s=20, c=colors[c])\n",
    "# 设置坐标轴的label\n",
    "plt.xlabel('juice')\n",
    "plt.ylabel('sweet')\n",
    "plt.show()  #展示图形"
   ]
  },
  {
   "cell_type": "code",
   "execution_count": 26,
   "metadata": {},
   "outputs": [
    {
     "name": "stdout",
     "output_type": "stream",
     "text": [
      "各类簇标签值： [2 0 1 0 2 1 1 2 0 0 1 3 2 0 1 3 1 3 2 0 1 3 2 3 2 0 1 3 2 0 1 3 2 0 2 0 1\n",
      " 0 2 3 2 0 2 0 1 3 2 0 1 0 1 3 2 0 1 3 3 2 0]\n"
     ]
    }
   ],
   "source": [
    "'''''采用average距离度量方法'''\n",
    "average = AgglomerativeClustering(n_clusters, linkage='average') #设定算法为KMeans算法\n",
    "average.fit(X)  #进行聚类算法训练\n",
    "\n",
    "labels_ave = average.labels_  #输出每一样本的聚类的类簇标签\n",
    "print '各类簇标签值：', labels_ave"
   ]
  },
  {
   "cell_type": "code",
   "execution_count": 27,
   "metadata": {},
   "outputs": [
    {
     "data": {
      "text/plain": [
       "157.212767543232"
      ]
     },
     "execution_count": 27,
     "metadata": {},
     "output_type": "execute_result"
    }
   ],
   "source": [
    "from sklearn import metrics  #导入metrics评估模块\n",
    "y_pred_ave =  average.fit_predict(X)  #根据聚类结果预测每个X所对应的类簇\n",
    "metrics.calinski_harabaz_score(X, y_pred_ave)  #采用CH指标评估聚类结果"
   ]
  },
  {
   "cell_type": "code",
   "execution_count": 28,
   "metadata": {},
   "outputs": [
    {
     "data": {
      "image/png": "[encoded data removed]",
      "text/plain": [
       "<matplotlib.figure.Figure at 0xef08b38>"
      ]
     },
     "metadata": {},
     "output_type": "display_data"
    }
   ],
   "source": [
    "markers = ['o', '^', '*', 's']  #设置散点图标记列表\n",
    "colors = ['r', 'b', 'g', 'peru']  #设置散点图颜色列表\n",
    "plt.figure(figsize=(7, 5)) #设置图形大小\n",
    "# 画每个类簇的样本点\n",
    "for c in range(n_clusters):\n",
    "    cluster = X[labels_ave == c]  #根据不同分类值c筛选X\n",
    "    #按照c的不同取值选取相应样本点、标记、颜色，画散点图\n",
    "    plt.scatter(cluster[:, 0], cluster[:, 1], \n",
    "                marker=markers[c], s=20, c=colors[c])\n",
    "# 设置坐标轴的label\n",
    "plt.xlabel('juice')\n",
    "plt.ylabel('sweet')\n",
    "plt.show()  #展示图形"
   ]
  }
 ],
 "metadata": {
  "kernelspec": {
   "display_name": "Python 3",
   "language": "python",
   "name": "python3"
  },
  "language_info": {
   "codemirror_mode": {
    "name": "ipython",
    "version": 3
   },
   "file_extension": ".py",
   "mimetype": "text/x-python",
   "name": "python",
   "nbconvert_exporter": "python",
   "pygments_lexer": "ipython3",
   "version": "3.8.8"
  }
 },
 "nbformat": 4,
 "nbformat_minor": 2
}
