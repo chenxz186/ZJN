{
 "cells": [
  {
   "cell_type": "code",
   "execution_count": 4,
   "metadata": {},
   "outputs": [],
   "source": [
    "import matplotlib.pyplot as plt  #导入matplotlib库\n",
    "import numpy as np  #导入numpy库"
   ]
  },
  {
   "cell_type": "code",
   "execution_count": 18,
   "metadata": {},
   "outputs": [
    {
     "data": {
      "text/plain": [
       "<matplotlib.collections.PathCollection at 0xbcd3358>"
      ]
     },
     "execution_count": 18,
     "metadata": {},
     "output_type": "execute_result"
    },
    {
     "data": {
      "image/png": "[encoded data removed]",
      "text/plain": [
       "<matplotlib.figure.Figure at 0xb802fd0>"
      ]
     },
     "metadata": {},
     "output_type": "display_data"
    }
   ],
   "source": [
    "''''' 一个简单案例'''  \n",
    "x = [0,0,2,3,4]\n",
    "y =[1,0,1,1,1.5]\n",
    "plt.xlim(-0.5,5)\n",
    "plt.ylim(-0.5, 2)\n",
    "plt.scatter(x,y, c='b')"
   ]
  },
  {
   "cell_type": "code",
   "execution_count": 21,
   "metadata": {},
   "outputs": [
    {
     "data": {
      "text/plain": [
       "(-0.5, 2)"
      ]
     },
     "execution_count": 21,
     "metadata": {},
     "output_type": "execute_result"
    },
    {
     "data": {
      "image/png": "[encoded data removed]",
      "text/plain": [
       "<matplotlib.figure.Figure at 0xb0246a0>"
      ]
     },
     "metadata": {},
     "output_type": "display_data"
    }
   ],
   "source": [
    "''''' 最终聚类结果'''  \n",
    "fig, ax = plt.subplots(figsize=(7,5))  #创建子图，大小为7*5\n",
    "x1 = [0,0,2,3,4]\n",
    "y1 =[1,0,1,1,1.5]\n",
    "x2 = [0, 3]\n",
    "y2 =[0.5, 1.17]\n",
    "\n",
    "ax.scatter(x1, y1, c='b', marker='o')\n",
    "ax.scatter(x2, y2, c='r', marker='x')\n",
    "plt.xlim(-0.5,5)\n",
    "plt.ylim(-0.5, 2)"
   ]
  },
  {
   "cell_type": "code",
   "execution_count": 1,
   "metadata": {},
   "outputs": [],
   "source": [
    "''''' K均值聚类'''\n",
    "import pandas as pd  #导入pandas库\n",
    "import matplotlib.pyplot as plt  #导入matplotlib库\n",
    "import numpy as np  #导入numpy库"
   ]
  },
  {
   "cell_type": "code",
   "execution_count": 27,
   "metadata": {},
   "outputs": [
    {
     "data": {
      "text/html": [
       "<div>\n",
       "<style scoped>\n",
       "    .dataframe tbody tr th:only-of-type {\n",
       "        vertical-align: middle;\n",
       "    }\n",
       "\n",
       "    .dataframe tbody tr th {\n",
       "        vertical-align: top;\n",
       "    }\n",
       "\n",
       "    .dataframe thead th {\n",
       "        text-align: right;\n",
       "    }\n",
       "</style>\n",
       "<table border=\"1\" class=\"dataframe\">\n",
       "  <thead>\n",
       "    <tr style=\"text-align: right;\">\n",
       "      <th></th>\n",
       "      <th>juice</th>\n",
       "      <th>sweet</th>\n",
       "    </tr>\n",
       "  </thead>\n",
       "  <tbody>\n",
       "    <tr>\n",
       "      <th>0</th>\n",
       "      <td>2.1041</td>\n",
       "      <td>0.8901</td>\n",
       "    </tr>\n",
       "    <tr>\n",
       "      <th>1</th>\n",
       "      <td>-1.0617</td>\n",
       "      <td>-0.4111</td>\n",
       "    </tr>\n",
       "    <tr>\n",
       "      <th>2</th>\n",
       "      <td>0.3521</td>\n",
       "      <td>-1.7488</td>\n",
       "    </tr>\n",
       "    <tr>\n",
       "      <th>3</th>\n",
       "      <td>-0.1962</td>\n",
       "      <td>2.5952</td>\n",
       "    </tr>\n",
       "    <tr>\n",
       "      <th>4</th>\n",
       "      <td>1.4158</td>\n",
       "      <td>1.0928</td>\n",
       "    </tr>\n",
       "  </tbody>\n",
       "</table>\n",
       "</div>"
      ],
      "text/plain": [
       "    juice   sweet\n",
       "0  2.1041  0.8901\n",
       "1 -1.0617 -0.4111\n",
       "2  0.3521 -1.7488\n",
       "3 -0.1962  2.5952\n",
       "4  1.4158  1.0928"
      ]
     },
     "execution_count": 27,
     "metadata": {},
     "output_type": "execute_result"
    }
   ],
   "source": [
    "df = pd.read_csv(''..//z_data//11_beverage.csv') #读取csv数据\n",
    "df.head()  #展示前五行数据"
   ]
  },
  {
   "cell_type": "code",
   "execution_count": 28,
   "metadata": {},
   "outputs": [],
   "source": [
    "X = df.iloc[:,0:2]  #取df的2列为X变量\n",
    "\n",
    "X = np.array(X.values)  # 把X化为数组形式"
   ]
  },
  {
   "cell_type": "code",
   "execution_count": 80,
   "metadata": {},
   "outputs": [
    {
     "data": {
      "text/plain": [
       "(59L, 2L)"
      ]
     },
     "execution_count": 80,
     "metadata": {},
     "output_type": "execute_result"
    }
   ],
   "source": [
    "X.shape"
   ]
  },
  {
   "cell_type": "code",
   "execution_count": 30,
   "metadata": {},
   "outputs": [
    {
     "data": {
      "text/plain": [
       "Text(0,0.5,u'sweet')"
      ]
     },
     "execution_count": 30,
     "metadata": {},
     "output_type": "execute_result"
    },
    {
     "data": {
      "image/png": "[encoded data removed]",
      "text/plain": [
       "<matplotlib.figure.Figure at 0xeed2320>"
      ]
     },
     "metadata": {},
     "output_type": "display_data"
    }
   ],
   "source": [
    "plt.scatter(X[:, 0], X[:, 1], s=20, marker='o', c='b')\n",
    "# 设置坐标轴的lable\n",
    "plt.xlabel('juice')\n",
    "plt.ylabel('sweet')"
   ]
  },
  {
   "cell_type": "code",
   "execution_count": 87,
   "metadata": {},
   "outputs": [
    {
     "data": {
      "text/plain": [
       "KMeans(algorithm='auto', copy_x=True, init='k-means++', max_iter=300,\n",
       "    n_clusters=3, n_init=10, n_jobs=1, precompute_distances='auto',\n",
       "    random_state=None, tol=0.0001, verbose=0)"
      ]
     },
     "execution_count": 87,
     "metadata": {},
     "output_type": "execute_result"
    }
   ],
   "source": [
    "from sklearn.cluster import KMeans #导入kmeans算法库\n",
    "n_clusters=3  #设置聚类结果的类簇\n",
    "kmean = KMeans(n_clusters) #设定算法为KMeans算法\n",
    "kmean.fit(X)  #进行聚类算法训练"
   ]
  },
  {
   "cell_type": "code",
   "execution_count": 58,
   "metadata": {},
   "outputs": [
    {
     "data": {
      "text/plain": [
       "73.95986749645601"
      ]
     },
     "execution_count": 58,
     "metadata": {},
     "output_type": "execute_result"
    }
   ],
   "source": [
    "from sklearn import metrics  #导入metrics评估模块\n",
    "y_pred = kmean.predict(X)  #根据聚类结果预测每个X所对应的类簇\n",
    "metrics.calinski_harabaz_score(X, y_pred)  #采用CH指标评估聚类结果"
   ]
  },
  {
   "cell_type": "code",
   "execution_count": 83,
   "metadata": {},
   "outputs": [],
   "source": [
    "labels = kmean.labels_  #输出每一样本的聚类的类簇标签\n",
    "centers = kmean.cluster_centers_  #输出聚类的类簇中心点"
   ]
  },
  {
   "cell_type": "code",
   "execution_count": 84,
   "metadata": {},
   "outputs": [
    {
     "name": "stdout",
     "output_type": "stream",
     "text": [
      "各类簇标签值： [0 1 1 2 0 1 1 0 2 2 1 1 0 2 1 1 1 1 0 2 1 1 0 1 0 2 1 1 0 2 1 1 0 2 0 1 1\n",
      " 2 0 1 0 2 0 2 1 1 0 2 1 2 1 1 0 2 1 1 1 0 2]\n",
      "各类簇中心： [[ 1.44084375  1.44255625]\n",
      " [-0.30035357 -1.44121786]\n",
      " [-1.11652     1.4173    ]]\n"
     ]
    }
   ],
   "source": [
    "print '各类簇标签值：', labels\n",
    "print '各类簇中心：', centers"
   ]
  },
  {
   "cell_type": "code",
   "execution_count": 88,
   "metadata": {},
   "outputs": [
    {
     "data": {
      "image/png": "[encoded data removed]",
      "text/plain": [
       "<matplotlib.figure.Figure at 0x10b59860>"
      ]
     },
     "metadata": {},
     "output_type": "display_data"
    }
   ],
   "source": [
    "markers = ['o', '^', '*']  #设置散点图标记列表\n",
    "colors = ['r', 'b', 'g']  #设置散点图颜色列表\n",
    "plt.figure(figsize=(7, 5)) #设置图形大小\n",
    "# 画每个类簇的样本点\n",
    "for c in range(n_clusters):\n",
    "    cluster = X[labels == c]  #根据不同分类值c筛选X\n",
    "    #按照c的不同取值选取相应样本点、标记、颜色，画散点图\n",
    "    plt.scatter(cluster[:, 0], cluster[:, 1], marker=markers[c], s=20, c=colors[c])\n",
    "# 画出每个类簇中心点\n",
    "plt.scatter(centers[:, 0], centers[:, 1],\n",
    "            marker='o', c=\"black\", alpha=0.9, s=50)\n",
    "# 设置坐标轴的label\n",
    "plt.xlabel('juice')\n",
    "plt.ylabel('sweet')\n",
    "plt.show()  #展示图形"
   ]
  },
  {
   "cell_type": "code",
   "execution_count": 89,
   "metadata": {},
   "outputs": [
    {
     "data": {
      "text/plain": [
       "188.0667309404243"
      ]
     },
     "execution_count": 89,
     "metadata": {},
     "output_type": "execute_result"
    }
   ],
   "source": [
    "n_clusters_four=4  #设置聚类结果的类簇为4\n",
    "kmean_four = KMeans(n_clusters_four) #设定算法为KMeans算法\n",
    "kmean_four.fit(X) #进行聚类算法训练\n",
    "\n",
    "y_pred_four = kmean_four.predict(X) #根据聚类结果预测每个X所对应的类簇\n",
    "metrics.calinski_harabaz_score(X, y_pred_four)  #采用CH指标评估聚类结果"
   ]
  },
  {
   "cell_type": "code",
   "execution_count": 90,
   "metadata": {},
   "outputs": [
    {
     "name": "stdout",
     "output_type": "stream",
     "text": [
      "各类簇中心： [[ 1.04653846 -1.64170769]\n",
      " [ 1.44084375  1.44255625]\n",
      " [-1.46766    -1.26746   ]\n",
      " [-1.11652     1.4173    ]]\n"
     ]
    }
   ],
   "source": [
    "labels_four = kmean_four.labels_ #输出每一样本的聚类的类簇标签\n",
    "centers_four = kmean_four.cluster_centers_ #输出聚类的类簇中心点\n",
    "print '各类簇中心：', centers_four"
   ]
  },
  {
   "cell_type": "code",
   "execution_count": 91,
   "metadata": {},
   "outputs": [
    {
     "data": {
      "image/png": "[encoded data removed]",
      "text/plain": [
       "<matplotlib.figure.Figure at 0x10be4e80>"
      ]
     },
     "metadata": {},
     "output_type": "display_data"
    }
   ],
   "source": [
    "markers = ['o', '^', '*', 's']  #设置散点图标记列表\n",
    "colors = ['r', 'b', 'g', 'peru']  #设置散点图颜色列表\n",
    "plt.figure(figsize=(7, 5)) #设置图形大小\n",
    "# 画每个类簇的样本点\n",
    "for c in range(n_clusters_four):\n",
    "    cluster = X[labels_four == c]  #根据不同分类值c筛选X\n",
    "    #按照c的不同取值选取相应样本点、标记、颜色，画散点图\n",
    "    plt.scatter(cluster[:, 0], cluster[:, 1], \n",
    "                marker=markers[c], s=20, c=colors[c])\n",
    "# 画出每个类簇中心点\n",
    "plt.scatter(centers_four[:, 0], centers_four[:, 1],\n",
    "            marker='o', c=\"black\", alpha=0.9, s=50)\n",
    "# 设置坐标轴的label\n",
    "plt.xlabel('juice')\n",
    "plt.ylabel('sweet')\n",
    "plt.show()  #展示图形"
   ]
  },
  {
   "cell_type": "code",
   "execution_count": 77,
   "metadata": {},
   "outputs": [
    {
     "data": {
      "image/png": "[encoded data removed]",
      "text/plain": [
       "<matplotlib.figure.Figure at 0xfedb5f8>"
      ]
     },
     "metadata": {},
     "output_type": "display_data"
    }
   ],
   "source": [
    "from scipy.spatial.distance import cdist\n",
    "#类簇的数量2到9\n",
    "clusters = range(2, 10) \n",
    "#距离函数\n",
    "distances_sum = []\n",
    " \n",
    "for k in clusters:\n",
    "    kmeans_model = KMeans(n_clusters = k).fit(X) #对不同取值k进行训练\n",
    "    #计算各对象离各类簇中心的欧氏距离，生成距离表\n",
    "    distances_point = cdist(X, kmeans_model.cluster_centers_, 'euclidean')\n",
    "    #提取每个对象到其类簇中心的距离（该距离最短，所以用min函数），并相加。\n",
    "    distances_cluster = sum(np.min(distances_point,axis=1))\n",
    "    #依次存入range(2, 10)的距离结果\n",
    "    distances_sum.append(distances_cluster)\n",
    " \n",
    " \n",
    "plt.plot(clusters, distances_sum, 'bx-')  #画出不同聚类结果下的距离总和\n",
    "# 设置坐标轴的label\n",
    "plt.xlabel('k')  \n",
    "plt.ylabel('distances')\n",
    "plt.show()  #展示图形"
   ]
  }
 ],
 "metadata": {
  "kernelspec": {
   "display_name": "Python 3",
   "language": "python",
   "name": "python3"
  },
  "language_info": {
   "codemirror_mode": {
    "name": "ipython",
    "version": 3
   },
   "file_extension": ".py",
   "mimetype": "text/x-python",
   "name": "python",
   "nbconvert_exporter": "python",
   "pygments_lexer": "ipython3",
   "version": "3.8.8"
  }
 },
 "nbformat": 4,
 "nbformat_minor": 2
}
