{
 "cells": [
  {
   "cell_type": "code",
   "execution_count": 1,
   "metadata": {},
   "outputs": [],
   "source": [
    "import matplotlib.pyplot as plt  #导入matplotlib库\n",
    "import numpy as np  #导入numpy库"
   ]
  },
  {
   "cell_type": "code",
   "execution_count": 13,
   "metadata": {},
   "outputs": [],
   "source": [
    "#正样本\n",
    "x1 = [0,1]\n",
    "y1 = [1,0]\n",
    "#负样本\n",
    "x2 = [0,1]\n",
    "y2 = [0,1]"
   ]
  },
  {
   "cell_type": "code",
   "execution_count": 32,
   "metadata": {},
   "outputs": [
    {
     "data": {
      "image/png": "[encoded data removed]",
      "text/plain": [
       "<matplotlib.figure.Figure at 0xbdfdeb8>"
      ]
     },
     "metadata": {},
     "output_type": "display_data"
    }
   ],
   "source": [
    "plt.figure(figsize = (6,4))\n",
    "plt.scatter(x1,y1,c = 'k', marker = 'x',s = 40 ,label = 'y=1')\n",
    "plt.scatter(x2,y2,c = 'b',marker = 'o',s = 40 ,label = 'y=0')\n",
    "plt.xlim(-0.1,1.5)\n",
    "plt.ylim(-0.1,1.5)\n",
    "plt.legend(loc = 'best')    # 设置 图例所在的位置 使用推荐位置\n",
    "plt.show()"
   ]
  },
  {
   "cell_type": "code",
   "execution_count": 43,
   "metadata": {},
   "outputs": [],
   "source": [
    "def sigmoid(x, deriv=False):\n",
    "    if (deriv == True):\n",
    "        return x * (1 - x)\n",
    "\n",
    "    return 1 / (1 + np.exp(-x))"
   ]
  },
  {
   "cell_type": "code",
   "execution_count": 36,
   "metadata": {},
   "outputs": [],
   "source": [
    "X = np.array([[0, 0],\n",
    "              [0, 1],\n",
    "              [1, 0],\n",
    "              [1, 1]])\n",
    "\n",
    "y = np.array([[0],[1],[1],[0]])"
   ]
  },
  {
   "cell_type": "code",
   "execution_count": 41,
   "metadata": {},
   "outputs": [
    {
     "data": {
      "text/plain": [
       "array([[-0.16595599,  0.44064899, -0.99977125, -0.39533485],\n",
       "       [-0.70648822, -0.81532281, -0.62747958, -0.30887855]])"
      ]
     },
     "execution_count": 41,
     "metadata": {},
     "output_type": "execute_result"
    }
   ],
   "source": [
    "np.random.seed(1)\n",
    "\n",
    "# randomly initialize our weights with mean 0\n",
    "syn0 = 2 * np.random.random((2, 4)) - 1\n",
    "syn1 = 2 * np.random.random((4, 1)) - 1\n",
    "syn0"
   ]
  },
  {
   "cell_type": "code",
   "execution_count": 42,
   "metadata": {},
   "outputs": [
    {
     "name": "stdout",
     "output_type": "stream",
     "text": [
      "Error:0.4995289647766772\n",
      "Error:0.018951601482048636\n",
      "Error:0.012674637262799139\n",
      "Error:0.010027680242236313\n",
      "Error:0.008505922371037249\n",
      "Error:0.007498195424481132\n",
      "Output After Training:\n",
      "[[0.00802491]\n",
      " [0.99405998]\n",
      " [0.99281435]\n",
      " [0.00594029]]\n"
     ]
    }
   ],
   "source": [
    "for j in range(50000):\n",
    "\n",
    "    # Feed forward through layers 0, 1, and 2\n",
    "    l0 = X\n",
    "    l1 = sigmoid(np.dot(l0, syn0))\n",
    "    l2 = sigmoid(np.dot(l1, syn1))\n",
    "\n",
    "    # how much did we miss the target value?\n",
    "    l2_error = y - l2\n",
    "\n",
    "    if (j % 10000) == 0:\n",
    "        print(\"Error:\" + str(np.mean(np.abs(l2_error))))\n",
    "\n",
    "    # in what direction is the target value?\n",
    "    # were we really sure? if so, don't change too much.\n",
    "    l2_delta = l2_error * sigmoid(l2, deriv=True)\n",
    "\n",
    "    # how much did each l1 value contribute to the l2 error (according to the weights)?\n",
    "    l1_error = l2_delta.dot(syn1.T)\n",
    "\n",
    "    # in what direction is the target l1?\n",
    "    # were we really sure? if so, don't change too much.\n",
    "    l1_delta = l1_error * sigmoid(l1, deriv=True)\n",
    "\n",
    "    syn1 += l1.T.dot(l2_delta)\n",
    "    syn0 += l0.T.dot(l1_delta)\n",
    "\n",
    "print(\"Output After Training:\")\n",
    "print(l2)"
   ]
  },
  {
   "cell_type": "code",
   "execution_count": 3,
   "metadata": {},
   "outputs": [],
   "source": [
    "import numpy as np  #导入numpy库\n",
    "from scipy.io import loadmat  #导入读取mat文件的模块"
   ]
  },
  {
   "cell_type": "code",
   "execution_count": 5,
   "metadata": {},
   "outputs": [
    {
     "data": {
      "text/plain": [
       "{'X': array([[0., 0., 0., ..., 0., 0., 0.],\n",
       "        [0., 0., 0., ..., 0., 0., 0.],\n",
       "        [0., 0., 0., ..., 0., 0., 0.],\n",
       "        ...,\n",
       "        [0., 0., 0., ..., 0., 0., 0.],\n",
       "        [0., 0., 0., ..., 0., 0., 0.],\n",
       "        [0., 0., 0., ..., 0., 0., 0.]]),\n",
       " '__globals__': [],\n",
       " '__header__': 'MATLAB 5.0 MAT-file, Platform: GLNXA64, Created on: Sun Oct 16 13:09:09 2011',\n",
       " '__version__': '1.0',\n",
       " 'y': array([[10],\n",
       "        [10],\n",
       "        [10],\n",
       "        ...,\n",
       "        [ 9],\n",
       "        [ 9],\n",
       "        [ 9]], dtype=uint8)}"
      ]
     },
     "execution_count": 5,
     "metadata": {},
     "output_type": "execute_result"
    }
   ],
   "source": [
    "data = loadmat(''..//z_data//10_digital.mat')\n",
    "data"
   ]
  },
  {
   "cell_type": "code",
   "execution_count": 36,
   "metadata": {},
   "outputs": [
    {
     "data": {
      "text/plain": [
       "((5000L, 400L), (5000L, 1L))"
      ]
     },
     "execution_count": 36,
     "metadata": {},
     "output_type": "execute_result"
    }
   ],
   "source": [
    "# 把X、y转化为数组形式，以便于计算\n",
    "X = data['X']  #提取X变量\n",
    "y = data['y']  #提取y变量\n",
    "\n",
    "X.shape, y.shape  #X、y的形状"
   ]
  },
  {
   "cell_type": "code",
   "execution_count": 35,
   "metadata": {},
   "outputs": [
    {
     "data": {
      "text/plain": [
       "array([-0.01165435, -0.00497787, -0.05190807, -0.16489346, -0.26849903,\n",
       "       -0.38779285, -0.46451186, -0.54957422, -0.30009149,  0.49926991,\n",
       "        1.76525906,  2.17704731,  2.14764   ,  2.00267532,  2.02265302,\n",
       "        1.96091402,  1.0217684 , -0.32945977, -0.18055523, -0.08207319])"
      ]
     },
     "execution_count": 35,
     "metadata": {},
     "output_type": "execute_result"
    }
   ],
   "source": [
    "X[0,100:120]  #矩阵X第一行第101列至第119列的数据"
   ]
  },
  {
   "cell_type": "code",
   "execution_count": 7,
   "metadata": {},
   "outputs": [
    {
     "data": {
      "text/plain": [
       "(5000L, 10L)"
      ]
     },
     "execution_count": 7,
     "metadata": {},
     "output_type": "execute_result"
    }
   ],
   "source": [
    "# from sklearn.preprocessing import OneHotEncoder  #导入preproccessing库的OneHotEncoder\n",
    "# encoder = OneHotEncoder(sparse=False)  #One-Hot编码，把每一位变成独立的一个特征值\n",
    "# y_onehot = encoder.fit_transform(y) #对y进行One-Hot编码，转换成相应0-1变量\n",
    "# y_onehot.shape  #y_onehot的形状"
   ]
  },
  {
   "cell_type": "code",
   "execution_count": 8,
   "metadata": {},
   "outputs": [
    {
     "data": {
      "text/plain": [
       "(array([10], dtype=uint8), array([0., 0., 0., 0., 0., 0., 0., 0., 0., 1.]))"
      ]
     },
     "execution_count": 8,
     "metadata": {},
     "output_type": "execute_result"
    }
   ],
   "source": [
    "#y[0], y_onehot[0,:]"
   ]
  },
  {
   "cell_type": "code",
   "execution_count": 9,
   "metadata": {},
   "outputs": [],
   "source": [
    "from sklearn.neural_network import MLPClassifier  #导入MLP分类器程序库\n",
    "from sklearn.preprocessing import StandardScaler  #导入标准化库\n",
    "scaler = StandardScaler() # 标准化转换\n",
    "scaler.fit(X)  # 训练标准化对象\n",
    "X = scaler.transform(X)   # 转换数据集"
   ]
  },
  {
   "cell_type": "code",
   "execution_count": 46,
   "metadata": {},
   "outputs": [
    {
     "data": {
      "text/plain": [
       "((3750L, 400L), (1250L, 400L), (3750L, 1L), (1250L, 1L))"
      ]
     },
     "execution_count": 46,
     "metadata": {},
     "output_type": "execute_result"
    }
   ],
   "source": [
    "from sklearn.cross_validation import train_test_split  \n",
    "#以25%的数据构建测试样本，剩余作为训练样本\n",
    "X_train,X_test,y_train,y_test=train_test_split(X,y,test_size=0.25,random_state =2)\n",
    "X_train.shape,X_test.shape,y_train.shape,y_test.shape"
   ]
  },
  {
   "cell_type": "code",
   "execution_count": 47,
   "metadata": {},
   "outputs": [
    {
     "data": {
      "text/plain": [
       "MLPClassifier(activation='tanh', alpha=1e-05, batch_size='auto', beta_1=0.9,\n",
       "       beta_2=0.999, early_stopping=False, epsilon=1e-08,\n",
       "       hidden_layer_sizes=(50,), learning_rate='constant',\n",
       "       learning_rate_init=0.001, max_iter=2000, momentum=0.9,\n",
       "       nesterovs_momentum=True, power_t=0.5, random_state=None,\n",
       "       shuffle=True, solver='adam', tol=0.0001, validation_fraction=0.1,\n",
       "       verbose=False, warm_start=False)"
      ]
     },
     "execution_count": 47,
     "metadata": {},
     "output_type": "execute_result"
    }
   ],
   "source": [
    "#设置MLP算法\n",
    "mlp = MLPClassifier(solver='adam',activation='tanh', alpha=1e-5,\n",
    "                    hidden_layer_sizes=(50,),learning_rate_init=0.001, max_iter=2000) \n",
    "mlp.fit(X_train, y_train)  #对训练集进行学习"
   ]
  },
  {
   "cell_type": "code",
   "execution_count": 52,
   "metadata": {},
   "outputs": [
    {
     "name": "stdout",
     "output_type": "stream",
     "text": [
      "每层网络层系数矩阵维度：\n",
      "[(400L, 50L), (50L, 10L)]\n",
      "预测结果： [7 8 3 ... 3 7 9]\n"
     ]
    }
   ],
   "source": [
    "print '每层网络层系数矩阵维度：\\n',[coef.shape for coef in mlp.coefs_]\n",
    "y_pred = mlp.predict(X_test)  #预测测试集输出\n",
    "print  '预测结果：',y_pred"
   ]
  },
  {
   "cell_type": "code",
   "execution_count": 26,
   "metadata": {
    "scrolled": true
   },
   "outputs": [
    {
     "data": {
      "text/plain": [
       "[array([[-2.18695479e-06,  2.74928630e-06,  1.01223292e-05, ...,\n",
       "          2.67536967e-06,  8.91247258e-06,  6.02397634e-07],\n",
       "        [-7.69328832e-06,  5.35259693e-07,  5.23097057e-07, ...,\n",
       "          5.75101648e-08, -4.29265064e-06,  1.22815032e-06],\n",
       "        [-2.64317869e-02,  4.27750991e-02, -4.58870964e-02, ...,\n",
       "          5.61516795e-03,  1.59709423e-02, -8.89620919e-03],\n",
       "        ...,\n",
       "        [ 9.45662936e-02,  2.49792321e-01, -1.70202920e-01, ...,\n",
       "          9.25258417e-02, -6.28355660e-02, -1.90629515e-01],\n",
       "        [-1.93315497e-01, -3.02309556e-01,  3.13856169e-01, ...,\n",
       "         -1.26379111e-01, -1.71692821e-01,  2.92754218e-01],\n",
       "        [ 9.16521684e-06, -3.95470325e-06,  2.63061021e-06, ...,\n",
       "         -1.04513106e-06, -6.88288819e-06, -1.53162764e-06]]),\n",
       " array([[-2.41125220e-01, -3.71811174e-01,  8.34461233e-01,\n",
       "          4.67307065e-01,  7.20588905e-01, -3.96714019e-01,\n",
       "          6.53019274e-01, -6.10835393e-01,  2.20763771e-01,\n",
       "         -8.14532679e-01],\n",
       "        [ 8.03232910e-01,  5.14262292e-01, -4.24629739e-01,\n",
       "         -2.69686932e-01, -1.51137925e-01,  7.71297230e-01,\n",
       "         -4.08539467e-01, -7.71933453e-01, -7.31399644e-01,\n",
       "          2.02397177e-01],\n",
       "        [ 1.04144903e-01,  3.32950349e-01, -8.55950004e-01,\n",
       "         -1.36207563e-01,  6.23700398e-01,  3.14078877e-01,\n",
       "         -6.74622843e-01,  5.92263320e-01, -4.96687454e-01,\n",
       "         -7.27590670e-02],\n",
       "        [-4.10827896e-01,  7.29200429e-01, -4.37393018e-01,\n",
       "          1.28660898e-02, -1.10651959e-01,  1.58175176e-01,\n",
       "          4.46478949e-01, -3.92108328e-01,  6.67470130e-01,\n",
       "         -6.06741549e-01],\n",
       "        [ 1.95013570e-01, -6.27067154e-01,  4.55564805e-01,\n",
       "          6.94360995e-01, -3.55366438e-01,  4.19833737e-01,\n",
       "          2.14251272e-01, -5.73203515e-01,  7.66866971e-01,\n",
       "         -2.44394729e-01],\n",
       "        [-3.45131540e-01, -5.59289446e-01, -7.11588297e-01,\n",
       "          6.89771667e-01,  4.33385593e-01,  4.95954737e-01,\n",
       "          1.87227088e-01,  7.96715698e-02,  3.34561283e-02,\n",
       "          4.02914248e-01],\n",
       "        [ 5.89925153e-01,  7.45204922e-01, -6.71952028e-01,\n",
       "          7.18715827e-01, -2.90328824e-01, -6.21451673e-02,\n",
       "         -4.39041970e-01,  3.58503472e-01, -3.96800609e-01,\n",
       "         -5.27209305e-01],\n",
       "        [-3.00512351e-01, -5.80943549e-01,  1.73180391e-01,\n",
       "         -7.23961886e-01, -3.73806327e-01,  7.00768094e-01,\n",
       "          2.40591855e-01,  8.12282031e-02, -6.87389370e-01,\n",
       "          5.06885690e-01],\n",
       "        [-2.85699020e-01, -4.05178526e-01, -2.12650110e-01,\n",
       "          2.80243657e-01, -6.91103588e-01, -4.82237041e-01,\n",
       "          1.45688856e-01, -3.39611954e-01,  7.00432085e-01,\n",
       "          7.11140939e-01],\n",
       "        [-2.74910994e-01, -2.45548920e-01, -7.92467276e-01,\n",
       "         -3.72230045e-02,  6.41416201e-01, -2.12625002e-04,\n",
       "          3.84764651e-02,  7.10609638e-01,  7.77027122e-01,\n",
       "         -3.48539965e-01],\n",
       "        [ 2.88431814e-01,  5.09815708e-01, -6.23745796e-01,\n",
       "         -6.70861351e-01, -2.89284063e-01, -5.43583914e-01,\n",
       "         -3.73251194e-01, -2.74993753e-01,  7.80948938e-01,\n",
       "          2.65277022e-01],\n",
       "        [-4.83786624e-01,  7.38259276e-01, -6.26145336e-01,\n",
       "          4.89787068e-01, -2.26946128e-01,  5.15584528e-01,\n",
       "         -5.96593951e-02,  7.68050540e-02,  3.72215276e-01,\n",
       "         -1.45685143e-01],\n",
       "        [-3.63247851e-01,  2.49025247e-01,  3.36199063e-01,\n",
       "         -7.10014720e-01, -7.70979636e-01,  6.23743182e-02,\n",
       "          4.53858055e-01,  5.41295252e-01,  3.92958688e-01,\n",
       "         -5.97809406e-01],\n",
       "        [ 9.13462193e-01, -4.81704114e-01,  5.00450436e-01,\n",
       "          3.13010858e-01,  6.63245396e-03,  6.91426305e-01,\n",
       "         -5.37506437e-01, -2.01643027e-01, -7.35701052e-01,\n",
       "         -9.58089372e-02],\n",
       "        [ 4.70199261e-01, -5.54879754e-01, -6.60244456e-01,\n",
       "          1.63552218e-01,  7.49812251e-01, -3.97986331e-01,\n",
       "         -2.05880209e-01,  5.98554351e-01,  1.50216336e-01,\n",
       "         -5.49527551e-01],\n",
       "        [ 4.33110779e-01,  2.66289110e-01, -4.42382304e-01,\n",
       "         -2.53670728e-01, -4.30528636e-01,  4.23487648e-01,\n",
       "          7.76011714e-01, -5.47885697e-01, -8.68354365e-02,\n",
       "         -2.66085166e-01],\n",
       "        [ 2.21351823e-01,  6.28379480e-01,  2.03027768e-01,\n",
       "          4.44593224e-01, -4.05128008e-01, -6.66020360e-01,\n",
       "         -4.17360457e-01,  6.15574414e-01, -6.13405890e-01,\n",
       "          1.77298045e-01],\n",
       "        [-6.56994059e-01,  6.54695332e-02,  3.96809592e-01,\n",
       "          6.67368833e-01, -4.85694935e-01, -3.03827573e-01,\n",
       "         -2.92783229e-01,  5.83217463e-01, -5.86720357e-01,\n",
       "          3.23470296e-01],\n",
       "        [ 3.29643046e-01, -2.38115635e-01,  3.49794417e-01,\n",
       "         -7.15558988e-01, -2.59965665e-01, -6.18552619e-01,\n",
       "          5.36920261e-01,  2.32230139e-01, -3.50470889e-01,\n",
       "          3.47427333e-01],\n",
       "        [ 2.18611192e-01, -6.24199699e-01, -3.59364666e-01,\n",
       "          6.19997800e-01, -4.51059340e-01, -5.19142562e-01,\n",
       "          7.60194363e-01,  7.23266922e-01, -2.30937094e-01,\n",
       "          1.89168540e-01],\n",
       "        [-5.81427713e-01, -1.90366265e-01, -5.67014251e-01,\n",
       "          6.99730574e-01,  8.62584446e-01,  1.72536408e-02,\n",
       "          2.44857829e-04, -2.39740694e-01, -4.51613328e-01,\n",
       "         -2.92491037e-02],\n",
       "        [ 2.08995764e-01, -7.49335048e-01, -1.50113325e-01,\n",
       "         -2.97426286e-01,  9.56042802e-02, -2.97789003e-01,\n",
       "         -6.89755646e-01,  6.37612662e-01,  7.26319831e-01,\n",
       "          3.12689363e-01],\n",
       "        [-3.55804877e-01, -2.41258426e-01,  3.38113144e-01,\n",
       "          2.85934285e-01, -3.86240264e-01,  4.95590366e-01,\n",
       "         -5.73133104e-01, -3.00297124e-01,  6.20309279e-01,\n",
       "         -5.03841357e-01],\n",
       "        [-1.40948917e-01,  1.28886381e-01,  4.99657543e-01,\n",
       "         -1.13046526e-01, -6.80192027e-01, -2.06338564e-01,\n",
       "         -7.75837544e-01, -2.04997423e-01,  6.11858825e-01,\n",
       "          5.22204882e-01],\n",
       "        [-4.58490496e-01,  1.52614206e-01,  7.60256463e-01,\n",
       "          7.93478969e-02, -7.54884228e-01, -8.38487821e-02,\n",
       "          8.67999809e-01, -1.80947047e-01, -7.28652251e-01,\n",
       "          6.04953395e-01],\n",
       "        [ 5.67119012e-02,  5.45523035e-01, -6.96071356e-01,\n",
       "         -2.21645226e-01,  8.85651596e-02,  1.12063670e-01,\n",
       "         -6.39256473e-01,  7.19323948e-01,  5.32396548e-01,\n",
       "         -3.21479248e-01],\n",
       "        [-7.97380744e-02, -4.07845804e-01, -6.06745732e-01,\n",
       "          6.90846247e-01,  7.90095116e-01, -5.70661331e-01,\n",
       "          4.20677279e-02, -1.05369425e-01, -3.87158274e-01,\n",
       "          2.97230494e-01],\n",
       "        [-4.16842849e-01,  2.67765421e-01, -7.26082349e-01,\n",
       "         -6.61904860e-01,  4.45071534e-01,  1.58373682e-01,\n",
       "          6.75200502e-01, -3.50195453e-01,  7.08546020e-02,\n",
       "          2.57095015e-01],\n",
       "        [-7.00389863e-01,  6.30330975e-01,  2.23563917e-01,\n",
       "         -6.81616501e-01,  5.13943294e-01, -6.42663136e-01,\n",
       "         -6.29508481e-01,  2.52512837e-01,  5.00543585e-01,\n",
       "          4.44850973e-01],\n",
       "        [-4.71950735e-01, -9.36973003e-02,  5.73543909e-01,\n",
       "          3.05658678e-01, -4.76370863e-01,  5.21622550e-01,\n",
       "         -7.57464300e-01,  3.56638417e-01,  7.62762397e-01,\n",
       "         -2.83735513e-01],\n",
       "        [-5.21824844e-01, -5.18503727e-01, -7.94921222e-01,\n",
       "          5.26209821e-01,  1.84729597e-01, -3.17936293e-01,\n",
       "          5.28693589e-01, -2.51338038e-01,  5.03499350e-01,\n",
       "          6.57612498e-01],\n",
       "        [-8.08317391e-01, -5.34447121e-01, -1.94902359e-01,\n",
       "         -7.09298858e-01, -1.12961422e-01,  6.83783638e-01,\n",
       "          1.29233584e-01,  6.20893632e-01,  5.42137489e-01,\n",
       "          3.18577357e-01],\n",
       "        [-1.95132017e-01, -2.04471212e-01,  3.75486850e-01,\n",
       "          6.65232751e-01, -7.30353337e-01,  5.57860552e-02,\n",
       "          6.27660974e-02,  8.83385851e-01, -1.00486895e+00,\n",
       "         -5.63476502e-01],\n",
       "        [ 4.26031276e-01,  6.21131318e-01,  7.55255169e-01,\n",
       "         -2.18847034e-01,  7.10901319e-01, -6.55796171e-01,\n",
       "          4.63562377e-01, -4.39385312e-01, -3.22497322e-01,\n",
       "         -6.71200523e-01],\n",
       "        [ 1.30870802e-01, -2.76565717e-01, -4.31927645e-01,\n",
       "          3.81473476e-01, -7.69865705e-01, -5.60002471e-01,\n",
       "          5.55745385e-01,  8.41128884e-01,  5.71331666e-01,\n",
       "         -2.84225905e-01],\n",
       "        [-5.63982195e-01,  5.25263084e-01,  8.56574084e-02,\n",
       "         -6.28023332e-01,  6.92714183e-01, -2.64259229e-01,\n",
       "          5.14445683e-01,  5.82902355e-01, -4.97660267e-01,\n",
       "         -2.17294566e-01],\n",
       "        [-5.22398186e-01, -7.60809261e-01,  3.22705993e-01,\n",
       "          6.84611962e-01, -8.79212609e-02,  7.17617704e-01,\n",
       "         -6.97965983e-01, -4.07175409e-02, -8.11383391e-02,\n",
       "         -3.96362515e-01],\n",
       "        [-2.19917713e-01,  4.68289331e-01,  8.21232356e-02,\n",
       "         -1.79199207e-01, -6.94767607e-01,  8.68681663e-01,\n",
       "         -6.51849629e-01,  1.33136252e-01, -1.03434817e-01,\n",
       "          5.14737653e-01],\n",
       "        [ 6.92149009e-01, -8.78546541e-01,  8.07187264e-01,\n",
       "          3.09637059e-01, -6.53325836e-04, -4.82447325e-01,\n",
       "          3.65874266e-01, -3.76534748e-01,  3.68345191e-01,\n",
       "         -1.86574986e-01],\n",
       "        [-7.48347121e-01, -4.52993835e-01,  1.39396361e-01,\n",
       "         -7.86609255e-01,  4.44636652e-01, -4.38902089e-01,\n",
       "         -2.20234018e-01,  5.07486893e-01, -5.98274131e-01,\n",
       "          2.70150969e-01]])]"
      ]
     },
     "execution_count": 26,
     "metadata": {},
     "output_type": "execute_result"
    }
   ],
   "source": [
    "mlp.coefs_"
   ]
  },
  {
   "cell_type": "code",
   "execution_count": 53,
   "metadata": {},
   "outputs": [
    {
     "name": "stdout",
     "output_type": "stream",
     "text": [
      "[array([ 0.01699874,  0.13893963, -0.09739546,  0.36212571,  0.00421097,\n",
      "       -0.14099249,  0.09988133,  0.35084429,  0.05332728, -0.27275202,\n",
      "       -0.07397795, -0.23062712, -0.05370075,  0.17917356,  0.11551142,\n",
      "        0.25960553,  0.14530344,  0.23373868,  0.10468435,  0.06653696,\n",
      "       -0.05067125,  0.09787145,  0.24277974, -0.10042277, -0.04497526,\n",
      "        0.34016223, -0.05742729, -0.35138747, -0.36111139, -0.03739997,\n",
      "       -0.28244286,  0.01367911, -0.01708489, -0.10670683, -0.13151603,\n",
      "        0.18234888,  0.0260016 ,  0.3258951 ,  0.0437308 , -0.24875039,\n",
      "       -0.13560819,  0.21735574,  0.17636884, -0.21388165,  0.22967284,\n",
      "        0.20118954,  0.17999544, -0.1146581 ,  0.05692678, -0.22243835]), array([ 0.22064924,  0.14726668, -0.39460557, -0.06146388,  0.05067294,\n",
      "        0.25413449,  0.35557673, -0.5066043 , -0.15105733, -0.10338268])]\n"
     ]
    }
   ],
   "source": [
    "print (mlp.intercepts_)   #列表中第i个元素代表i+1层的偏差向量 "
   ]
  },
  {
   "cell_type": "code",
   "execution_count": 13,
   "metadata": {},
   "outputs": [],
   "source": [
    "from sklearn import model_selection  #模型比较和选择包\n",
    "from sklearn.metrics import confusion_matrix #计算混淆矩阵，主要来评估分类的准确性\n",
    "from sklearn.metrics import accuracy_score #计算精度得分"
   ]
  },
  {
   "cell_type": "code",
   "execution_count": 50,
   "metadata": {},
   "outputs": [
    {
     "data": {
      "text/plain": [
       "0.928"
      ]
     },
     "execution_count": 50,
     "metadata": {},
     "output_type": "execute_result"
    }
   ],
   "source": [
    "accuracy_score(y_test, y_pred)  #计算准确率"
   ]
  },
  {
   "cell_type": "code",
   "execution_count": 51,
   "metadata": {},
   "outputs": [
    {
     "data": {
      "text/plain": [
       "array([[117,   1,   1,   0,   2,   0,   2,   3,   0,   0],\n",
       "       [  1, 110,   2,   0,   1,   1,   0,   3,   1,   0],\n",
       "       [  1,   0, 111,   0,   4,   1,   2,   4,   2,   0],\n",
       "       [  1,   1,   0, 128,   0,   1,   1,   0,   3,   0],\n",
       "       [  0,   0,   3,   0, 104,   6,   0,   1,   0,   0],\n",
       "       [  1,   1,   0,   0,   1, 115,   0,   0,   0,   0],\n",
       "       [  1,   1,   0,   1,   0,   0, 116,   0,   3,   1],\n",
       "       [  3,   1,   2,   0,   2,   3,   1, 126,   2,   1],\n",
       "       [  0,   1,   2,   4,   1,   0,   2,   2, 104,   1],\n",
       "       [  0,   0,   0,   1,   2,   0,   0,   0,   0, 129]], dtype=int64)"
      ]
     },
     "execution_count": 51,
     "metadata": {},
     "output_type": "execute_result"
    }
   ],
   "source": [
    "confusion_matrix(y_true=y_test, y_pred=y_pred)  #计算混淆矩阵"
   ]
  }
 ],
 "metadata": {
  "kernelspec": {
   "display_name": "Python 3",
   "language": "python",
   "name": "python3"
  },
  "language_info": {
   "codemirror_mode": {
    "name": "ipython",
    "version": 3
   },
   "file_extension": ".py",
   "mimetype": "text/x-python",
   "name": "python",
   "nbconvert_exporter": "python",
   "pygments_lexer": "ipython3",
   "version": "3.8.8"
  }
 },
 "nbformat": 4,
 "nbformat_minor": 2
}
