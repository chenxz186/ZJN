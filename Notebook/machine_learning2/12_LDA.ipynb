{
 "cells": [
  {
   "cell_type": "code",
   "execution_count": 1,
   "metadata": {},
   "outputs": [],
   "source": [
    "import matplotlib.pyplot as plt  #导入matplotlib库\n",
    "import numpy as np  #导入numpy库"
   ]
  },
  {
   "cell_type": "code",
   "execution_count": 2,
   "metadata": {},
   "outputs": [],
   "source": [
    "x=[0.69,-1.31,0.39,0.09,1.29,0.49,0.19,-0.81,-0.31,-0.71]  #创建x变量\n",
    "y=[0.49,-1.21,0.99,0.29,1.09,0.79,-0.31,-0.81,-0.31,-1.01]  #创建y变量\n",
    "z=[0,0,0,0,0,1,1,1,1,1]  #创建z变量"
   ]
  },
  {
   "cell_type": "code",
   "execution_count": 3,
   "metadata": {},
   "outputs": [
    {
     "data": {
      "text/plain": [
       "array([[ 0.69,  0.49],\n",
       "       [-1.31, -1.21],\n",
       "       [ 0.39,  0.99],\n",
       "       [ 0.09,  0.29],\n",
       "       [ 1.29,  1.09],\n",
       "       [ 0.49,  0.79],\n",
       "       [ 0.19, -0.31],\n",
       "       [-0.81, -0.81],\n",
       "       [-0.31, -0.31],\n",
       "       [-0.71, -1.01]])"
      ]
     },
     "execution_count": 3,
     "metadata": {},
     "output_type": "execute_result"
    }
   ],
   "source": [
    "X =np.c_[x,y]  #两变量列合并，形成10*2维的变量X\n",
    "X"
   ]
  },
  {
   "cell_type": "code",
   "execution_count": 5,
   "metadata": {},
   "outputs": [
    {
     "data": {
      "text/plain": [
       "LinearDiscriminantAnalysis(n_components=1, priors=None, shrinkage=None,\n",
       "              solver='svd', store_covariance=False, tol=0.0001)"
      ]
     },
     "execution_count": 5,
     "metadata": {},
     "output_type": "execute_result"
    }
   ],
   "source": [
    "#导入LDA模块\n",
    "from sklearn.discriminant_analysis import LinearDiscriminantAnalysis\n",
    "#设置LDA降，并将降维后的维度设为1\n",
    "lda = LinearDiscriminantAnalysis(n_components=1) \n",
    "lda.fit(X,z)  #进行降维训练"
   ]
  },
  {
   "cell_type": "code",
   "execution_count": 9,
   "metadata": {},
   "outputs": [
    {
     "name": "stdout",
     "output_type": "stream",
     "text": [
      "降维后变量： [[-0.15302111]\n",
      " [ 0.96700976]\n",
      " [-1.81101752]\n",
      " [-0.56676062]\n",
      " [-0.70669937]\n",
      " [-1.17773391]\n",
      " [ 1.03394076]\n",
      " [ 0.74746565]\n",
      " [ 0.2860671 ]\n",
      " [ 1.38074927]]\n",
      "截距:  [0.]\n",
      "权重向量:  [[ 1.35843106 -2.19651128]]\n"
     ]
    }
   ],
   "source": [
    "X_new = lda.transform(X)  #生成的降维后的新变量X\n",
    "print \"降维后变量：\", X_new\n",
    "print \"截距: \", lda.intercept_\n",
    "print \"权重向量: \", lda.coef_"
   ]
  },
  {
   "cell_type": "code",
   "execution_count": 16,
   "metadata": {},
   "outputs": [
    {
     "name": "stdout",
     "output_type": "stream",
     "text": [
      " 每个类别的均值向量:  [[ 0.23  0.33]\n",
      " [-0.23 -0.33]]\n",
      "整体样本的均值向量:  [-2.77555756e-17  2.77555756e-17]\n"
     ]
    }
   ],
   "source": [
    "print \"每个类别的均值向量: \",lda. means_\n",
    "print \"整体样本的均值向量: \",lda. xbar_"
   ]
  },
  {
   "cell_type": "code",
   "execution_count": 47,
   "metadata": {},
   "outputs": [],
   "source": [
    "x11 =[0.69,-1.31,0.39,0.09,1.29]\n",
    "x12 =[0.49,0.19,-0.81,-0.31,-0.71] \n",
    "y11 =[0.49,-1.21,0.99,0.29,1.09]\n",
    "y12 =[0.79,-0.31,-0.81,-0.31,-1.01] "
   ]
  },
  {
   "cell_type": "code",
   "execution_count": 53,
   "metadata": {},
   "outputs": [
    {
     "data": {
      "image/png": "[encoded data removed]",
      "text/plain": [
       "<matplotlib.figure.Figure at 0xc377198>"
      ]
     },
     "metadata": {},
     "output_type": "display_data"
    }
   ],
   "source": [
    "import mpl_toolkits.axisartist as axisartist\n",
    "#创建画布\n",
    "fig = plt.figure(figsize=(5, 5))\n",
    "#使用axisartist.Subplot方法创建一个绘图区对象ax\n",
    "ax = axisartist.Subplot(fig, 111)    \n",
    "#将绘图区对象添加到画布中\n",
    "fig.add_axes(ax)\n",
    "\n",
    "#通过set_visible方法设置绘图区的顶部及右侧坐标轴隐藏\n",
    "ax.axis[:].set_visible(False)\n",
    "\n",
    "#添加新的坐标轴\n",
    "ax.axis[\"x\"] = ax.new_floating_axis(0,0)\n",
    "ax.axis[\"x\"].set_axisline_style(\"->\", size = 1.0)\n",
    "\n",
    "ax.axis[\"y\"] = ax.new_floating_axis(1,0)\n",
    "ax.axis[\"y\"].set_axisline_style(\"->\", size = 1.0)\n",
    "ax.axis[\"y\"].set_axis_direction(\"left\")\n",
    "ax.scatter(x11, y11, c='peru', marker='o')\n",
    "ax.scatter(x12, y12, c='k', marker='^')\n",
    "#plt.scatter(x11,y11,c = z, marker = 'o' )\n",
    "#plt.scatter(X_new[:, 0], X_new[:, 1],marker='o',c=y)\n",
    "x1 = np.arange(-2,2,0.1)\n",
    "y1 = (-2.1965/1.3584)*x1\n",
    "y2 = (1.3584/2.1965)*x1\n",
    "plt.plot(x1,y1,c='b')\n",
    "plt.plot(x1,y2,c='b')\n",
    "y3 = (-0.7352/(-0.6779))*x1 #特征向量的值相除\n",
    "plt.plot(x1,y3,c='r',linestyle='--')\n",
    "plt.xlim(-2,2)\n",
    "plt.ylim(-2,2)\n",
    "plt.show()"
   ]
  }
 ],
 "metadata": {
  "kernelspec": {
   "display_name": "Python 2",
   "language": "python",
   "name": "python2"
  },
  "language_info": {
   "codemirror_mode": {
    "name": "ipython",
    "version": 2
   },
   "file_extension": ".py",
   "mimetype": "text/x-python",
   "name": "python",
   "nbconvert_exporter": "python",
   "pygments_lexer": "ipython2",
   "version": "2.7.14"
  }
 },
 "nbformat": 4,
 "nbformat_minor": 2
}
