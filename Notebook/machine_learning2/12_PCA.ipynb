{
 "cells": [
  {
   "cell_type": "code",
   "execution_count": 1,
   "metadata": {},
   "outputs": [],
   "source": [
    "import matplotlib.pyplot as plt  #导入matplotlib库\n",
    "import numpy as np  #导入numpy库"
   ]
  },
  {
   "cell_type": "code",
   "execution_count": 2,
   "metadata": {},
   "outputs": [],
   "source": [
    "x=[0.69,-1.31,0.39,0.09,1.29,0.49,0.19,-0.81,-0.31,-0.71]  #创建x变量\n",
    "y=[0.49,-1.21,0.99,0.29,1.09,0.79,-0.31,-0.81,-0.31,-1.01]  #创建y变量"
   ]
  },
  {
   "cell_type": "code",
   "execution_count": 25,
   "metadata": {},
   "outputs": [
    {
     "data": {
      "image/png": "[encoded data removed]",
      "text/plain": [
       "<matplotlib.figure.Figure at 0xaef9358>"
      ]
     },
     "metadata": {},
     "output_type": "display_data"
    }
   ],
   "source": [
    "import mpl_toolkits.axisartist as axisartist\n",
    "#创建画布\n",
    "fig = plt.figure(figsize=(5, 5))\n",
    "#使用axisartist.Subplot方法创建一个绘图区对象ax\n",
    "ax = axisartist.Subplot(fig, 111)    \n",
    "#将绘图区对象添加到画布中\n",
    "fig.add_axes(ax)\n",
    "\n",
    "#通过set_visible方法设置绘图区的顶部及右侧坐标轴隐藏\n",
    "ax.axis[:].set_visible(False)\n",
    "\n",
    "#添加新的坐标轴\n",
    "ax.axis[\"x\"] = ax.new_floating_axis(0,0)\n",
    "ax.axis[\"x\"].set_axisline_style(\"->\", size = 1.0)\n",
    "\n",
    "ax.axis[\"y\"] = ax.new_floating_axis(1,0)\n",
    "ax.axis[\"y\"].set_axisline_style(\"->\", size = 1.0)\n",
    "ax.axis[\"y\"].set_axis_direction(\"left\")\n",
    "plt.scatter(x,y,c = 'k', marker = 'o' )\n",
    "x1 = np.arange(-1.5,1.5,0.1)\n",
    "y1 = (-0.7352/(-0.6779))*x1 #特征向量的值相除\n",
    "y2 = (-0.6779/0.7352)*x1\n",
    "plt.plot(x1,y1,c='r')\n",
    "plt.plot(x1,y2,c='r')\n",
    "plt.xlim(-2,2)\n",
    "plt.ylim(-2,2)\n",
    "plt.show()"
   ]
  },
  {
   "cell_type": "code",
   "execution_count": 13,
   "metadata": {
    "scrolled": true
   },
   "outputs": [
    {
     "data": {
      "text/plain": [
       "array([[ 0.69,  0.49],\n",
       "       [-1.31, -1.21],\n",
       "       [ 0.39,  0.99],\n",
       "       [ 0.09,  0.29],\n",
       "       [ 1.29,  1.09],\n",
       "       [ 0.49,  0.79],\n",
       "       [ 0.19, -0.31],\n",
       "       [-0.81, -0.81],\n",
       "       [-0.31, -0.31],\n",
       "       [-0.71, -1.01]])"
      ]
     },
     "execution_count": 13,
     "metadata": {},
     "output_type": "execute_result"
    }
   ],
   "source": [
    "X =np.c_[x,y]  #两变量列合并，形成10*2维的变量X\n",
    "X"
   ]
  },
  {
   "cell_type": "code",
   "execution_count": 14,
   "metadata": {},
   "outputs": [
    {
     "data": {
      "text/plain": [
       "PCA(copy=True, iterated_power='auto', n_components=2, random_state=None,\n",
       "  svd_solver='auto', tol=0.0, whiten=False)"
      ]
     },
     "execution_count": 14,
     "metadata": {},
     "output_type": "execute_result"
    }
   ],
   "source": [
    "from sklearn.decomposition import PCA  #导入PCA程序包\n",
    "pca = PCA(n_components=2)  #创建一个PCA对象，设定保留的特征数2\n",
    "pca.fit(X)  #进行PCA降维"
   ]
  },
  {
   "cell_type": "code",
   "execution_count": 27,
   "metadata": {},
   "outputs": [
    {
     "name": "stdout",
     "output_type": "stream",
     "text": [
      "特征值： [1.28402771 0.0490834 ]\n",
      "特征值的贡献率： [0.96318131 0.03681869]\n"
     ]
    }
   ],
   "source": [
    "print '特征值：', pca.explained_variance_\n",
    "print '特征值的贡献率：', pca.explained_variance_ratio_  "
   ]
  },
  {
   "cell_type": "code",
   "execution_count": 28,
   "metadata": {},
   "outputs": [
    {
     "name": "stdout",
     "output_type": "stream",
     "text": [
      "特征值： [0.96318131]\n",
      "特征值的贡献率： [1.28402771]\n"
     ]
    }
   ],
   "source": [
    "pca_one = PCA(n_components=1) #创建一个PCA对象，设定保留的特征数1\n",
    "pca_one.fit(X) #进行PCA降维\n",
    "\n",
    "print '特征值：', pca_one.explained_variance_ratio_\n",
    "print '特征值的贡献率：', pca_one.explained_variance_"
   ]
  },
  {
   "cell_type": "code",
   "execution_count": 18,
   "metadata": {},
   "outputs": [
    {
     "data": {
      "text/plain": [
       "array([[-0.82797019],\n",
       "       [ 1.77758033],\n",
       "       [-0.99219749],\n",
       "       [-0.27421042],\n",
       "       [-1.67580142],\n",
       "       [-0.9129491 ],\n",
       "       [ 0.09910944],\n",
       "       [ 1.14457216],\n",
       "       [ 0.43804614],\n",
       "       [ 1.22382056]])"
      ]
     },
     "execution_count": 18,
     "metadata": {},
     "output_type": "execute_result"
    }
   ],
   "source": [
    "X_new = pca_one.transform(X) #生成降维后的数据\n",
    "X_new"
   ]
  }
 ],
 "metadata": {
  "kernelspec": {
   "display_name": "Python 2",
   "language": "python",
   "name": "python2"
  },
  "language_info": {
   "codemirror_mode": {
    "name": "ipython",
    "version": 2
   },
   "file_extension": ".py",
   "mimetype": "text/x-python",
   "name": "python",
   "nbconvert_exporter": "python",
   "pygments_lexer": "ipython2",
   "version": "2.7.14"
  }
 },
 "nbformat": 4,
 "nbformat_minor": 2
}
