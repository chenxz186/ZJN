{
 "cells": [
  {
   "cell_type": "code",
   "execution_count": 1,
   "metadata": {},
   "outputs": [],
   "source": [
    "import matplotlib.pyplot as plt  #导入matplotlib库\n",
    "import numpy as np  #导入numpy库\n",
    "import pandas as pd  #导入pandas库"
   ]
  },
  {
   "cell_type": "code",
   "execution_count": 2,
   "metadata": {},
   "outputs": [
    {
     "data": {
      "text/html": [
       "<div>\n",
       "<style scoped>\n",
       "    .dataframe tbody tr th:only-of-type {\n",
       "        vertical-align: middle;\n",
       "    }\n",
       "\n",
       "    .dataframe tbody tr th {\n",
       "        vertical-align: top;\n",
       "    }\n",
       "\n",
       "    .dataframe thead th {\n",
       "        text-align: right;\n",
       "    }\n",
       "</style>\n",
       "<table border=\"1\" class=\"dataframe\">\n",
       "  <thead>\n",
       "    <tr style=\"text-align: right;\">\n",
       "      <th></th>\n",
       "      <th>income</th>\n",
       "      <th>house</th>\n",
       "      <th>points</th>\n",
       "      <th>default</th>\n",
       "      <th>numbers</th>\n",
       "      <th>credit</th>\n",
       "    </tr>\n",
       "  </thead>\n",
       "  <tbody>\n",
       "    <tr>\n",
       "      <th>0</th>\n",
       "      <td>5472</td>\n",
       "      <td>3</td>\n",
       "      <td>10</td>\n",
       "      <td>0</td>\n",
       "      <td>7</td>\n",
       "      <td>3</td>\n",
       "    </tr>\n",
       "    <tr>\n",
       "      <th>1</th>\n",
       "      <td>7452</td>\n",
       "      <td>3</td>\n",
       "      <td>10</td>\n",
       "      <td>0</td>\n",
       "      <td>8</td>\n",
       "      <td>3</td>\n",
       "    </tr>\n",
       "    <tr>\n",
       "      <th>2</th>\n",
       "      <td>5312</td>\n",
       "      <td>3</td>\n",
       "      <td>10</td>\n",
       "      <td>0</td>\n",
       "      <td>7</td>\n",
       "      <td>3</td>\n",
       "    </tr>\n",
       "    <tr>\n",
       "      <th>3</th>\n",
       "      <td>6568</td>\n",
       "      <td>3</td>\n",
       "      <td>10</td>\n",
       "      <td>0</td>\n",
       "      <td>8</td>\n",
       "      <td>3</td>\n",
       "    </tr>\n",
       "    <tr>\n",
       "      <th>4</th>\n",
       "      <td>6340</td>\n",
       "      <td>3</td>\n",
       "      <td>20</td>\n",
       "      <td>0</td>\n",
       "      <td>9</td>\n",
       "      <td>3</td>\n",
       "    </tr>\n",
       "  </tbody>\n",
       "</table>\n",
       "</div>"
      ],
      "text/plain": [
       "   income  house  points  default  numbers  credit\n",
       "0    5472      3      10        0        7       3\n",
       "1    7452      3      10        0        8       3\n",
       "2    5312      3      10        0        7       3\n",
       "3    6568      3      10        0        8       3\n",
       "4    6340      3      20        0        9       3"
      ]
     },
     "execution_count": 2,
     "metadata": {},
     "output_type": "execute_result"
    }
   ],
   "source": [
    "df = pd.read_csv('..//z_data//6_credit.csv') #读取csv数据\n",
    "df.head()  #展示前五行数据"
   ]
  },
  {
   "cell_type": "code",
   "execution_count": 3,
   "metadata": {},
   "outputs": [
    {
     "data": {
      "text/plain": [
       "Text(0,0.5,u'points')"
      ]
     },
     "execution_count": 3,
     "metadata": {},
     "output_type": "execute_result"
    },
    {
     "data": {
      "image/png": "[encoded data removed]",
      "text/plain": [
       "<matplotlib.figure.Figure at 0xb628978>"
      ]
     },
     "metadata": {},
     "output_type": "display_data"
    }
   ],
   "source": [
    "#对训练集中的数据进行可视化\n",
    "a1 = df[df['credit'] == 1] #把credit为1的数据筛选出来形成单独的数据集\n",
    "a2 = df[df['credit'] == 2] #把credit为2的数据筛选出来形成单独的数据集  \n",
    "a3 = df[df['credit'] == 3] #把credit为3的数据筛选出来形成单独的数据集\n",
    "\n",
    "fig, ax = plt.subplots(figsize=(8,5))  #创建子图，大小为8*5\n",
    "ax.scatter(a1['income'], a1['points'], s=30, c='b', marker='o', label='credit=1')\n",
    "#构建a1的散点图，设置散点形状为o\n",
    "ax.scatter(a2['income'], a2['points'], s=30, c='r', marker='x', label='credit=2')  \n",
    "#构建a2的散点图，设置散点形状为x\n",
    "ax.scatter(a3['income'], a3['points'], s=30, c='g', marker='^', label='credit=3')  \n",
    "#构建a3的散点图，设置散点形状为x\n",
    "ax.legend()  #设置图例\n",
    "ax.set_xlabel('income')  #设置x轴标签\n",
    "ax.set_ylabel('points')  #设置y轴标签"
   ]
  },
  {
   "cell_type": "code",
   "execution_count": 34,
   "metadata": {},
   "outputs": [
    {
     "data": {
      "text/plain": [
       "Text(0,0.5,u'default')"
      ]
     },
     "execution_count": 34,
     "metadata": {},
     "output_type": "execute_result"
    },
    {
     "data": {
      "image/png": "[encoded data removed]",
      "text/plain": [
       "<matplotlib.figure.Figure at 0xe674d68>"
      ]
     },
     "metadata": {},
     "output_type": "display_data"
    }
   ],
   "source": [
    "fig, ax = plt.subplots(figsize=(8,5))  #创建子图，大小为8*5\n",
    "ax.scatter(a1['house'], a1['default'], s=30, c='b', marker='o', label='credit=1')\n",
    "#构建a1的散点图，设置散点形状为o\n",
    "ax.scatter(a2['house'], a2['default'], s=30, c='r', marker='x', label='credit=2')  \n",
    "#构建a2的散点图，设置散点形状为x\n",
    "ax.scatter(a3['house'], a3['default'], s=30, c='g', marker='^', label='credit=3')  \n",
    "#构建a3的散点图，设置散点形状为x\n",
    "ax.legend(loc='upper right')  #设置图例\n",
    "ax.set_xlabel('house')  #设置x轴标签\n",
    "ax.set_ylabel('default')  #设置y轴标签"
   ]
  },
  {
   "cell_type": "code",
   "execution_count": 35,
   "metadata": {},
   "outputs": [
    {
     "data": {
      "text/plain": [
       "Text(0,0.5,u'numbers')"
      ]
     },
     "execution_count": 35,
     "metadata": {},
     "output_type": "execute_result"
    },
    {
     "data": {
      "image/png": "[encoded data removed]",
      "text/plain": [
       "<matplotlib.figure.Figure at 0xc0fe748>"
      ]
     },
     "metadata": {},
     "output_type": "display_data"
    }
   ],
   "source": [
    "fig, ax = plt.subplots(figsize=(8,5))  #创建子图，大小为8*5\n",
    "ax.scatter(a1['house'], a1['numbers'], s=30, c='b', marker='o', label='credit=1')\n",
    "#构建a1的散点图，设置散点形状为o\n",
    "ax.scatter(a2['house'], a2['numbers'], s=30, c='r', marker='x', label='credit=2')  \n",
    "#构建a2的散点图，设置散点形状为x\n",
    "ax.scatter(a3['house'], a3['numbers'], s=30, c='g', marker='^', label='credit=3')  \n",
    "#构建a3的散点图，设置散点形状为x\n",
    "ax.legend(loc='upper left')  #设置图例\n",
    "ax.set_xlabel('house')  #设置x轴标签\n",
    "ax.set_ylabel('numbers')  #设置y轴标签"
   ]
  },
  {
   "cell_type": "code",
   "execution_count": 10,
   "metadata": {},
   "outputs": [],
   "source": [
    "X = df.iloc[:,1:6]  #取df的后3列为X变量\n",
    "y = df['credit'] #设置y变量\n",
    "\n",
    "# 把X、y转化为数组形式，以便于计算\n",
    "X = np.array(X.values)  \n",
    "y = np.array(y.values)"
   ]
  },
  {
   "cell_type": "code",
   "execution_count": 4,
   "metadata": {},
   "outputs": [
    {
     "data": {
      "text/plain": [
       "219"
      ]
     },
     "execution_count": 4,
     "metadata": {},
     "output_type": "execute_result"
    }
   ],
   "source": [
    "len(y)"
   ]
  },
  {
   "cell_type": "code",
   "execution_count": 11,
   "metadata": {},
   "outputs": [],
   "source": [
    "from sklearn.cross_validation import train_test_split  \n",
    "#以25%的数据构建测试样本，剩余作为训练样本\n",
    "X_train,X_test,y_train,y_test=train_test_split(X,y,test_size=0.25,random_state =1)"
   ]
  },
  {
   "cell_type": "code",
   "execution_count": 6,
   "metadata": {},
   "outputs": [
    {
     "data": {
      "text/plain": [
       "((164L, 5L), (55L, 5L), (164L,), (55L,))"
      ]
     },
     "execution_count": 6,
     "metadata": {},
     "output_type": "execute_result"
    }
   ],
   "source": [
    "X_train.shape,X_test.shape,y_train.shape,y_test.shape"
   ]
  },
  {
   "cell_type": "code",
   "execution_count": 12,
   "metadata": {},
   "outputs": [
    {
     "data": {
      "text/plain": [
       "GaussianNB(priors=None)"
      ]
     },
     "execution_count": 12,
     "metadata": {},
     "output_type": "execute_result"
    }
   ],
   "source": [
    "from sklearn.naive_bayes import GaussianNB #导入高斯朴素贝叶斯分类包\n",
    "GNB = GaussianNB()  #设定模型为高斯朴素贝叶斯\n",
    "GNB.fit(X_train, y_train) #训练数据"
   ]
  },
  {
   "cell_type": "code",
   "execution_count": 13,
   "metadata": {},
   "outputs": [
    {
     "name": "stdout",
     "output_type": "stream",
     "text": [
      "[0.25609756 0.54878049 0.19512195]\n",
      "[42. 90. 32.]\n",
      "[[1.50000000e+00 9.33333333e+01 3.14285714e+00 5.33333333e+00\n",
      "  1.00000000e+00]\n",
      " [2.13333333e+00 1.44222222e+02 1.58888889e+00 6.56666667e+00\n",
      "  2.00000000e+00]\n",
      " [3.06250000e+00 2.19062500e+02 1.87500000e-01 7.90625000e+00\n",
      "  3.00000000e+00]]\n",
      "[[2.50008540e-01 4.97460318e+03 5.51028948e-01 9.36516477e-01\n",
      "  8.54022531e-06]\n",
      " [2.26675207e-01 6.18439507e+03 3.53218417e-01 4.67786318e-01\n",
      "  8.54022531e-06]\n",
      " [5.86022902e-02 1.08584961e+04 1.52352290e-01 1.45996948e+00\n",
      "  8.54022531e-06]]\n"
     ]
    }
   ],
   "source": [
    "#print(GNB.set_params(priors=[0.625,0.375]))#设置priors参数值\n",
    "#print(GNB.priors)#获取各个类标记对应的先验概率\n",
    "print(GNB.class_prior_)#获取各个类标记对应的先验概率\n",
    "print(GNB.class_count_)#获取各类标记对应的训练样本数\n",
    "print(GNB.theta_)#获取各类标记在各个特征值上的均值\n",
    "print(GNB.sigma_)#获取各个类标记在各个特征上的方差"
   ]
  },
  {
   "cell_type": "code",
   "execution_count": 12,
   "metadata": {},
   "outputs": [],
   "source": [
    "y_pred = GNB.predict(X_test)"
   ]
  },
  {
   "cell_type": "code",
   "execution_count": 13,
   "metadata": {},
   "outputs": [
    {
     "data": {
      "text/plain": [
       "array([1, 1, 1, 1, 2, 3, 2, 2, 3, 3, 2, 1, 2, 3, 2, 1, 1, 3, 2, 1, 2, 2,\n",
       "       2, 2, 1, 1, 3, 2, 2, 1, 1, 3, 1, 1, 2, 1, 2, 3, 1, 1, 1, 1, 2, 3,\n",
       "       2, 1, 2, 3, 2, 1, 2, 3, 3, 2, 2], dtype=int64)"
      ]
     },
     "execution_count": 13,
     "metadata": {},
     "output_type": "execute_result"
    }
   ],
   "source": [
    "y_pred"
   ]
  },
  {
   "cell_type": "code",
   "execution_count": 17,
   "metadata": {},
   "outputs": [],
   "source": [
    "from sklearn import model_selection  #模型比较和选择包\n",
    "from sklearn.metrics import confusion_matrix #计算混淆矩阵，主要来评估分类的准确性\n",
    "from sklearn.metrics import accuracy_score #计算精度得分"
   ]
  },
  {
   "cell_type": "code",
   "execution_count": 18,
   "metadata": {},
   "outputs": [
    {
     "data": {
      "text/plain": [
       "1.0"
      ]
     },
     "execution_count": 18,
     "metadata": {},
     "output_type": "execute_result"
    }
   ],
   "source": [
    "accuracy_score(y_test, y_pred)  #计算准确率"
   ]
  },
  {
   "cell_type": "code",
   "execution_count": 19,
   "metadata": {},
   "outputs": [
    {
     "data": {
      "text/plain": [
       "array([[21,  0,  0],\n",
       "       [ 0, 22,  0],\n",
       "       [ 0,  0, 12]], dtype=int64)"
      ]
     },
     "execution_count": 19,
     "metadata": {},
     "output_type": "execute_result"
    }
   ],
   "source": [
    "confusion_matrix(y_true=y_test, y_pred=y_pred)  #计算混淆矩阵"
   ]
  },
  {
   "cell_type": "code",
   "execution_count": 20,
   "metadata": {},
   "outputs": [
    {
     "data": {
      "text/plain": [
       "LogisticRegression(C=1.0, class_weight=None, dual=False, fit_intercept=True,\n",
       "          intercept_scaling=1, max_iter=100, multi_class='ovr', n_jobs=1,\n",
       "          penalty='l2', random_state=None, solver='liblinear', tol=0.0001,\n",
       "          verbose=0, warm_start=False)"
      ]
     },
     "execution_count": 20,
     "metadata": {},
     "output_type": "execute_result"
    }
   ],
   "source": [
    "#导入sklearn库中的逻辑回归包\n",
    "from sklearn.linear_model.logistic import LogisticRegression\n",
    "clf=LogisticRegression()  #设置算法为逻辑回归\n",
    "clf.fit(X_train, y_train)  #训练数据"
   ]
  },
  {
   "cell_type": "code",
   "execution_count": 21,
   "metadata": {},
   "outputs": [],
   "source": [
    "y_pred_classifier = clf.predict(X_test)  #预测测试集"
   ]
  },
  {
   "cell_type": "code",
   "execution_count": 23,
   "metadata": {},
   "outputs": [
    {
     "data": {
      "text/plain": [
       "0.9454545454545454"
      ]
     },
     "execution_count": 23,
     "metadata": {},
     "output_type": "execute_result"
    }
   ],
   "source": [
    "accuracy_score(y_test, y_pred_classifier)  #计算准确率"
   ]
  },
  {
   "cell_type": "code",
   "execution_count": 24,
   "metadata": {},
   "outputs": [
    {
     "data": {
      "text/plain": [
       "array([[19,  2,  0],\n",
       "       [ 0, 22,  0],\n",
       "       [ 0,  1, 11]], dtype=int64)"
      ]
     },
     "execution_count": 24,
     "metadata": {},
     "output_type": "execute_result"
    }
   ],
   "source": [
    "confusion_matrix(y_true=y_test, y_pred=y_pred_classifier)   #计算混淆矩阵"
   ]
  },
  {
   "cell_type": "code",
   "execution_count": 14,
   "metadata": {},
   "outputs": [
    {
     "data": {
      "text/plain": [
       "MultinomialNB(alpha=1.0, class_prior=None, fit_prior=True)"
      ]
     },
     "execution_count": 14,
     "metadata": {},
     "output_type": "execute_result"
    }
   ],
   "source": [
    "from sklearn.naive_bayes import MultinomialNB #导入多项式朴素贝叶斯分类包\n",
    "MNB = MultinomialNB(alpha=1.0)   #设置算法为多项式朴素贝叶斯\n",
    "MNB.fit(X_train, y_train)  #训练数据"
   ]
  },
  {
   "cell_type": "code",
   "execution_count": 15,
   "metadata": {},
   "outputs": [
    {
     "name": "stdout",
     "output_type": "stream",
     "text": [
      "[-1.36219681 -0.60005676 -1.63413053]\n",
      "[-1.36219681 -0.60005676 -1.63413053]\n"
     ]
    }
   ],
   "source": [
    "print(MNB.class_log_prior_)  #各类标记的平滑先验概率对数值\n",
    "print(MNB.intercept_) #将多项式朴素贝叶斯解释的class_log_prior_映射为线性模型，其值和class_log_prior相同"
   ]
  },
  {
   "cell_type": "code",
   "execution_count": 18,
   "metadata": {},
   "outputs": [
    {
     "data": {
      "text/plain": [
       "0.7454545454545455"
      ]
     },
     "execution_count": 18,
     "metadata": {},
     "output_type": "execute_result"
    }
   ],
   "source": [
    "y_pred_MNB = MNB.predict(X_test)   #预测测试集\n",
    "accuracy_score(y_test, y_pred_MNB)  #计算准确率"
   ]
  },
  {
   "cell_type": "code",
   "execution_count": 19,
   "metadata": {},
   "outputs": [
    {
     "data": {
      "text/plain": [
       "array([[14,  7,  0],\n",
       "       [ 3, 19,  0],\n",
       "       [ 0,  4,  8]], dtype=int64)"
      ]
     },
     "execution_count": 19,
     "metadata": {},
     "output_type": "execute_result"
    }
   ],
   "source": [
    "confusion_matrix(y_true=y_test, y_pred=y_pred_MNB)   #计算混淆矩阵"
   ]
  },
  {
   "cell_type": "code",
   "execution_count": 42,
   "metadata": {},
   "outputs": [
    {
     "data": {
      "text/plain": [
       "BernoulliNB(alpha=1.0, binarize=2.0, class_prior=None, fit_prior=True)"
      ]
     },
     "execution_count": 42,
     "metadata": {},
     "output_type": "execute_result"
    }
   ],
   "source": [
    "from sklearn.naive_bayes import BernoulliNB  #导入伯努利朴素贝叶斯分类包\n",
    "BNB = BernoulliNB(alpha=1.0,binarize = 2.0,fit_prior=True)  #设置算法为伯努利朴素贝叶斯\n",
    "BNB.fit(X_train, y_train)   #训练数据"
   ]
  },
  {
   "cell_type": "code",
   "execution_count": 43,
   "metadata": {},
   "outputs": [
    {
     "name": "stdout",
     "output_type": "stream",
     "text": [
      "[-1.36219681 -0.60005676 -1.63413053]\n",
      "[[-3.78418963 -0.02298952 -0.25782911 -0.04652002 -3.78418963]\n",
      " [-1.63141682 -0.01092907 -3.13549422 -0.01092907 -4.52178858]\n",
      " [-0.02985296 -0.02985296 -3.52636052 -0.02985296 -0.02985296]]\n"
     ]
    }
   ],
   "source": [
    "#类先验概率对数值，类先验概率等于各类的个数/类的总个数\n",
    "print(BNB.class_log_prior_)  \n",
    "#指定类的各特征概率(条件概率)对数值，返回形状为(n_classes, n_features)数组\n",
    "print(BNB.feature_log_prob_)"
   ]
  },
  {
   "cell_type": "code",
   "execution_count": 44,
   "metadata": {},
   "outputs": [
    {
     "data": {
      "text/plain": [
       "0.8727272727272727"
      ]
     },
     "execution_count": 44,
     "metadata": {},
     "output_type": "execute_result"
    }
   ],
   "source": [
    "y_pred_BNB = BNB.predict(X_test)  #预测测试集\n",
    "accuracy_score(y_test, y_pred_BNB)  #计算准确率"
   ]
  },
  {
   "cell_type": "code",
   "execution_count": 45,
   "metadata": {},
   "outputs": [
    {
     "data": {
      "text/plain": [
       "array([[14,  7,  0],\n",
       "       [ 0, 22,  0],\n",
       "       [ 0,  0, 12]], dtype=int64)"
      ]
     },
     "execution_count": 45,
     "metadata": {},
     "output_type": "execute_result"
    }
   ],
   "source": [
    "confusion_matrix(y_true=y_test, y_pred=y_pred_BNB)   #计算混淆矩阵"
   ]
  }
 ],
 "metadata": {
  "kernelspec": {
   "display_name": "Python 3",
   "language": "python",
   "name": "python3"
  },
  "language_info": {
   "codemirror_mode": {
    "name": "ipython",
    "version": 3
   },
   "file_extension": ".py",
   "mimetype": "text/x-python",
   "name": "python",
   "nbconvert_exporter": "python",
   "pygments_lexer": "ipython3",
   "version": "3.8.8"
  }
 },
 "nbformat": 4,
 "nbformat_minor": 2
}
