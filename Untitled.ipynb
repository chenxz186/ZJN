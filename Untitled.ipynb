{
 "cells": [
  {
   "cell_type": "code",
   "execution_count": 2,
   "id": "03ee5230",
   "metadata": {},
   "outputs": [],
   "source": [
    "import numpy.random as nr"
   ]
  },
  {
   "cell_type": "code",
   "execution_count": 34,
   "id": "32602aff",
   "metadata": {},
   "outputs": [
    {
     "name": "stdout",
     "output_type": "stream",
     "text": [
      "A得到: 14802, B得到: 20264\n"
     ]
    }
   ],
   "source": [
    "count = 0\n",
    "a, b = 0, 0\n",
    "while count < 10000:\n",
    "    result = nr.choice([0, 1])\n",
    "    if result == 0:\n",
    "        a += 3\n",
    "    else:\n",
    "        b += 4\n",
    "    count += 1\n",
    "\n",
    "print('A得到: {}, B得到: {}'.format(a, b))"
   ]
  },
  {
   "cell_type": "code",
   "execution_count": 35,
   "id": "7e5110db",
   "metadata": {},
   "outputs": [
    {
     "name": "stdout",
     "output_type": "stream",
     "text": [
      "A得到: 15369, B得到: 19508\n"
     ]
    }
   ],
   "source": [
    "a, b = 0, 0\n",
    "for i in range(10000):\n",
    "    result = nr.choice([0, 10])\n",
    "    if result == 0:\n",
    "        a += 3\n",
    "    else:\n",
    "        b += 4\n",
    "\n",
    "print('A得到: {}, B得到: {}'.format(a, b))"
   ]
  },
  {
   "cell_type": "code",
   "execution_count": null,
   "id": "8df2674f",
   "metadata": {},
   "outputs": [],
   "source": []
  }
 ],
 "metadata": {
  "kernelspec": {
   "display_name": "Python 3",
   "language": "python",
   "name": "python3"
  },
  "language_info": {
   "codemirror_mode": {
    "name": "ipython",
    "version": 3
   },
   "file_extension": ".py",
   "mimetype": "text/x-python",
   "name": "python",
   "nbconvert_exporter": "python",
   "pygments_lexer": "ipython3",
   "version": "3.8.10"
  }
 },
 "nbformat": 4,
 "nbformat_minor": 5
}
