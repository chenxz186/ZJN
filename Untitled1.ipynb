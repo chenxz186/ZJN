{
 "cells": [
  {
   "cell_type": "code",
   "execution_count": 10,
   "id": "68dbfdd6",
   "metadata": {},
   "outputs": [
    {
     "name": "stdout",
     "output_type": "stream",
     "text": [
      "                  交易日     涨跌  逐笔累计盈亏\n",
      "交易日                                 \n",
      "2020-02-21 2020-02-21    0.0     0.0\n",
      "2020-02-28 2020-02-28  -12.2   -12.2\n",
      "2020-03-06 2020-03-06   29.2    17.0\n",
      "2020-03-13 2020-03-13  -69.2   -52.2\n",
      "2020-03-17 2020-03-17 -116.8  -169.0\n",
      "...               ...    ...     ...\n",
      "2021-09-17 2021-09-17    0.0   253.6\n",
      "2021-09-24 2021-09-24   11.6   265.2\n",
      "2021-09-30 2021-09-30   -0.2   265.0\n",
      "2021-10-08 2021-10-08   11.2   276.2\n",
      "2021-10-15 2021-10-15    9.4   285.6\n",
      "\n",
      "[63 rows x 3 columns]\n"
     ]
    },
    {
     "data": {
      "image/png": "[encoded data removed]",
      "text/plain": [
       "<Figure size 432x288 with 1 Axes>"
      ]
     },
     "metadata": {
      "needs_background": "light"
     },
     "output_type": "display_data"
    }
   ],
   "source": [
    "import pandas as pd\n",
    "import matplotlib.pyplot as plt\n",
    "plt.rcParams[\"font.sans-serif\"] = [\"SimHei\"]\n",
    "plt.rcParams[\"axes.unicode_minus\"] = False\n",
    "\n",
    "\n",
    "df = pd.read_excel('../ZJN/data/IO宽跨卖出数据.xlsx')\n",
    "df.index = pd.to_datetime(df['交易日'], format='%Y-%m-%d')  # 字符串转换成日期格式\n",
    "print(df)\n",
    "\n",
    "# 画单轴\n",
    "ax1 = plt.subplot(1, 1, 1)\n",
    "plt.sca(ax1)\n",
    "plt.title('IO策略盈亏')\n",
    "plt.plot(df['逐笔累计盈亏'])\n",
    "plt.grid()\n",
    "plt.show()\n",
    "\n",
    "# # 画双轴\n",
    "# df2 = pd.read_csv('index_day_closeprice_data.csv')\n",
    "# df2.index = pd.to_datetime(df2['date'], format='%Y-%m-%d')\n",
    "# intersection_index = df.index.intersection(df2.index)\n",
    "# df = df[df.index.isin(intersection_index)]\n",
    "# df2 = df2[df2.index.isin(intersection_index)]\n",
    "\n",
    "# fig = plt.figure(figsize=(8, 6))\n",
    "# ax1 = fig.add_subplot(111)\n",
    "# df['逐笔累计盈亏'].plot(ax=ax1, grid=True, color='blue',label='策略逐笔累计盈亏')\n",
    "# plt.xlabel('日期')\n",
    "# ax1.set_ylabel('IO策略')\n",
    "# plt.legend(loc=2)\n",
    "\n",
    "# ax2 = ax1.twinx()\n",
    "# df2['000300.SH'].plot(ax=ax2, color='yellow', label='沪深300指数')\n",
    "# ax2.set_ylabel('沪深300指数')\n",
    "# plt.legend(loc=1)\n",
    "# plt.title('IO策略盈亏与沪深300走势对比')\n",
    "# plt.show()\n",
    "\n"
   ]
  },
  {
   "cell_type": "code",
   "execution_count": 8,
   "id": "e6f1dfe3",
   "metadata": {},
   "outputs": [
    {
     "name": "stdout",
     "output_type": "stream",
     "text": [
      "                  交易日     涨跌  逐笔累计盈亏\n",
      "交易日                                 \n",
      "2020-02-21 2020-02-21    0.0     0.0\n",
      "2020-02-28 2020-02-28  -12.2   -12.2\n",
      "2020-03-06 2020-03-06   29.2    17.0\n",
      "2020-03-13 2020-03-13  -69.2   -52.2\n",
      "2020-03-17 2020-03-17 -116.8  -169.0\n",
      "...               ...    ...     ...\n",
      "2021-09-17 2021-09-17    0.0   253.6\n",
      "2021-09-24 2021-09-24   11.6   265.2\n",
      "2021-09-30 2021-09-30   -0.2   265.0\n",
      "2021-10-08 2021-10-08   11.2   276.2\n",
      "2021-10-15 2021-10-15    9.4   285.6\n",
      "\n",
      "[63 rows x 3 columns]\n"
     ]
    }
   ],
   "source": [
    "import pandas as pd\n",
    "import matplotlib.pyplot as plt\n",
    "plt.rcParams[\"font.sans-serif\"] = [\"SimHei\"]\n",
    "plt.rcParams[\"axes.unicode_minus\"] = False\n",
    "\n",
    "def show_pnl():\n",
    "    df = pd.read_excel('../ZJN/data/IO宽跨卖出数据.xlsx')\n",
    "    df.index = pd.to_datetime(df['交易日'], format='%Y-%m-%d')  # 字符串转换成日期格式\n",
    "    print(df)\n",
    "\n",
    "    # # 画单轴\n",
    "    # ax1 = plt.subplot(1, 1, 1)\n",
    "    # plt.sca(ax1)\n",
    "    # plt.title('IO策略盈亏')\n",
    "    # plt.plot(df['逐笔累计盈亏'])\n",
    "    # plt.grid()\n",
    "    # plt.show()\n",
    "\n",
    "#     # 画双轴\n",
    "#     df2 = pd.read_csv('index_day_closeprice_data.csv')\n",
    "#     df2.index = pd.to_datetime(df2['date'], format='%Y-%m-%d')\n",
    "#     intersection_index = df.index.intersection(df2.index)\n",
    "#     df = df[df.index.isin(intersection_index)]\n",
    "#     df2 = df2[df2.index.isin(intersection_index)]\n",
    "\n",
    "#     fig = plt.figure(figsize=(8, 6))\n",
    "#     ax1 = fig.add_subplot(111)\n",
    "#     df['逐笔累计盈亏'].plot(ax=ax1, grid=True, color='blue',label='策略逐笔累计盈亏')\n",
    "#     plt.xlabel('日期')\n",
    "#     ax1.set_ylabel('IO策略')\n",
    "#     plt.legend(loc=2)\n",
    "\n",
    "#     ax2 = ax1.twinx()\n",
    "#     df2['000300.SH'].plot(ax=ax2, color='yellow', label='沪深300指数')\n",
    "#     ax2.set_ylabel('沪深300指数')\n",
    "#     plt.legend(loc=1)\n",
    "#     plt.title('IO策略盈亏与沪深300走势对比')\n",
    "#     plt.show()\n",
    "\n",
    "\n",
    "if __name__ == '__main__':\n",
    "    show_pnl()"
   ]
  },
  {
   "cell_type": "code",
   "execution_count": null,
   "id": "e3941b2f",
   "metadata": {},
   "outputs": [],
   "source": []
  }
 ],
 "metadata": {
  "kernelspec": {
   "display_name": "Python 3 (ipykernel)",
   "language": "python",
   "name": "python3"
  },
  "language_info": {
   "codemirror_mode": {
    "name": "ipython",
    "version": 3
   },
   "file_extension": ".py",
   "mimetype": "text/x-python",
   "name": "python",
   "nbconvert_exporter": "python",
   "pygments_lexer": "ipython3",
   "version": "3.8.12"
  }
 },
 "nbformat": 4,
 "nbformat_minor": 5
}
