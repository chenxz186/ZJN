{
 "cells": [
  {
   "cell_type": "code",
   "execution_count": 1,
   "id": "730ced1d",
   "metadata": {},
   "outputs": [
    {
     "name": "stdout",
     "output_type": "stream",
     "text": [
      "{'aa': {'a': [1, 2]}, 'bb': {'b': [3, 4]}}\n",
      "{'aa': {'a': [1, 2]}, 'bb': {'b': [3, 4]}}\n"
     ]
    }
   ],
   "source": [
    "import _pickle as cp\n",
    "\n",
    "a = {'a': [1, 2]}\n",
    "b = {'b': [3, 4]}\n",
    "x = {'aa': a, 'bb': b}\n",
    "print(x)\n",
    "with open('xxx.pickle', 'wb') as f_out:\n",
    "    cp.dump(x, f_out)\n",
    "\n",
    "with open('xxx.pickle', 'rb') as f_in:\n",
    "    x_ = cp.load(f_in)\n",
    "    print(x_)"
   ]
  },
  {
   "cell_type": "code",
   "execution_count": null,
   "id": "616b7d5d",
   "metadata": {},
   "outputs": [],
   "source": []
  }
 ],
 "metadata": {
  "kernelspec": {
   "display_name": "Python 3 (ipykernel)",
   "language": "python",
   "name": "python3"
  },
  "language_info": {
   "codemirror_mode": {
    "name": "ipython",
    "version": 3
   },
   "file_extension": ".py",
   "mimetype": "text/x-python",
   "name": "python",
   "nbconvert_exporter": "python",
   "pygments_lexer": "ipython3",
   "version": "3.9.7"
  }
 },
 "nbformat": 4,
 "nbformat_minor": 5
}
